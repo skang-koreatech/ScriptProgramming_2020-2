{
 "cells": [
  {
   "cell_type": "code",
   "execution_count": 1,
   "metadata": {},
   "outputs": [
    {
     "name": "stdout",
     "output_type": "stream",
     "text": [
      "exp(1.0) = 2.718281828459045\n",
      "log(3.78) = 1.0\n",
      "log10(10, 10) = 1.0\n",
      "sqrt(4.0) = 2.0\n",
      "sin(PI / 2) = 1.0\n",
      "cos(PI / 2) = 6.123233995736766e-17\n",
      "tan(PI / 2) = 1.633123935319537e+16\n",
      "degrees(1.57) = 89.95437383553924\n",
      "radians(90) = 1.5707963267948966\n"
     ]
    }
   ],
   "source": [
    "import math # 수학 함수를 사용하기 위해 math 모듈을 임포트한다.\n",
    "\n",
    "# 수학 함수를 테스트한다.\n",
    "print(\"exp(1.0) =\", math.exp(1))\n",
    "print(\"log(3.78) =\", math.log(math.e))\n",
    "print(\"log10(10, 10) =\", math.log(10, 10))\n",
    "print(\"sqrt(4.0) =\", math.sqrt(4.0))\n",
    "\n",
    "# 삼각함수를 테스트한다.\n",
    "print(\"sin(PI / 2) =\", math.sin(math.pi / 2))\n",
    "print(\"cos(PI / 2) =\", math.cos(math.pi / 2))\n",
    "print(\"tan(PI / 2) =\", math.tan(math.pi / 2))\n",
    "print(\"degrees(1.57) =\", math.degrees(1.57))\n",
    "print(\"radians(90) =\", math.radians(90))"
   ]
  },
  {
   "cell_type": "code",
   "execution_count": 2,
   "metadata": {},
   "outputs": [
    {
     "name": "stdout",
     "output_type": "stream",
     "text": [
      "세 점을 입력하세요: 1, 10, 15, 3, 6, 21\n",
      "세 내각은  92.12 36.87 51.01 입니다.\n"
     ]
    }
   ],
   "source": [
    "import math\n",
    "\n",
    "x1, y1, x2, y2, x3, y3 = eval(input(\"세 점을 입력하세요: \"))\n",
    "\n",
    "a = math.sqrt((x2 - x3) * (x2 - x3) + (y2 - y3) * (y2 - y3))\n",
    "b = math.sqrt((x1 - x3) * (x1 - x3) + (y1 - y3) * (y1 - y3))\n",
    "c = math.sqrt((x1 - x2) * (x1 - x2) + (y1 - y2) * (y1 - y2))\n",
    "\n",
    "A = math.degrees(math.acos((a * a - b * b - c * c) / (-2 * b * c)))\n",
    "B = math.degrees(math.acos((b * b - a * a - c * c) / (-2 * a * c)))\n",
    "C = math.degrees(math.acos((c * c - b * b - a * a) / (-2 * a * b)))\n",
    "\n",
    "print(\"세 내각은 \", round(A * 100) / 100.0,\n",
    "    round(B * 100) / 100.0, round(C * 100) / 100.0, \"입니다.\")"
   ]
  },
  {
   "cell_type": "code",
   "execution_count": 3,
   "metadata": {},
   "outputs": [
    {
     "name": "stdout",
     "output_type": "stream",
     "text": [
      "     57.47\n",
      "12345678.92\n",
      "     57.40\n",
      "     57.00\n",
      "  5.75e+01\n",
      "  3.39e-03\n",
      "  5.74e+01\n",
      "  5.70e+01\n",
      "    53.46%\n",
      "     0.34%\n",
      "   740.00%\n",
      "  5700.00%\n",
      "     57.47\n",
      "57.47     \n",
      "     59832\n",
      "59832     \n",
      "      e9b8\n",
      "e9b8      \n",
      "    164670\n",
      "164670    \n",
      "파이썬에 오신 것을 환영합니다.   \n",
      "파이썬에 오신 것을 환영합니다.   \n",
      "   파이썬에 오신 것을 환영합니다.\n",
      "파이썬과 자바에 오신 것을 환영합니다.\n"
     ]
    }
   ],
   "source": [
    "print(format(57.467657, \"10.2f\"))\n",
    "print(format(12345678.923, \"10.2f\"))\n",
    "print(format(57.4, \"10.2f\"))\n",
    "print(format(57, \"10.2f\"))\n",
    "\n",
    "print(format(57.467657, \"10.2e\"))\n",
    "print(format(0.0033923, \"10.2e\"))\n",
    "print(format(57.4, \"10.2e\"))\n",
    "print(format(57, \"10.2e\"))\n",
    "\n",
    "print(format(0.53457, \"10.2%\"))\n",
    "print(format(0.0033923, \"10.2%\"))\n",
    "print(format(7.4, \"10.2%\"))\n",
    "print(format(57, \"10.2%\"))\n",
    "\n",
    "print(format(57.467657, \"10.2f\"))\n",
    "print(format(57.467657, \"<10.2f\"))\n",
    "\n",
    "print(format(59832, \"10d\"))\n",
    "print(format(59832, \"<10d\"))\n",
    "print(format(59832, \"10x\"))\n",
    "print(format(59832, \"<10x\"))\n",
    "print(format(59832, \"10o\"))\n",
    "print(format(59832, \"<10o\"))\n",
    "\n",
    "print(format(\"파이썬에 오신 것을 환영합니다.\", \"20s\"))\n",
    "print(format(\"파이썬에 오신 것을 환영합니다.\", \"<20s\"))\n",
    "print(format(\"파이썬에 오신 것을 환영합니다.\", \">20s\"))\n",
    "print(format(\"파이썬과 자바에 오신 것을 환영합니다.\", \">20s\"))"
   ]
  },
  {
   "cell_type": "code",
   "execution_count": null,
   "metadata": {
    "collapsed": true
   },
   "outputs": [],
   "source": []
  }
 ],
 "metadata": {
  "kernelspec": {
   "display_name": "Python 3",
   "language": "python",
   "name": "python3"
  },
  "language_info": {
   "codemirror_mode": {
    "name": "ipython",
    "version": 3
   },
   "file_extension": ".py",
   "mimetype": "text/x-python",
   "name": "python",
   "nbconvert_exporter": "python",
   "pygments_lexer": "ipython3",
   "version": "3.6.1"
  }
 },
 "nbformat": 4,
 "nbformat_minor": 2
}
