{
 "cells": [
  {
   "cell_type": "code",
   "execution_count": 1,
   "metadata": {},
   "outputs": [
    {
     "name": "stdout",
     "output_type": "stream",
     "text": [
      "파이썬에 오신 것을 환영합니다.\n",
      "파이썬은 재미있습니다.\n"
     ]
    }
   ],
   "source": [
    "# 두 개의 메시지를 출력한다.\n",
    "print(\"파이썬에 오신 것을 환영합니다.\")\n",
    "print(\"파이썬은 재미있습니다.\")"
   ]
  },
  {
   "cell_type": "code",
   "execution_count": 2,
   "metadata": {},
   "outputs": [
    {
     "name": "stdout",
     "output_type": "stream",
     "text": [
      "파이썬에 오신 것을 환영합니다.\n",
      "파이썬은 재미있습니다.\n",
      "문제 구동방식\n"
     ]
    }
   ],
   "source": [
    "# 세 개의 메시지를 출력한다.\n",
    "print(\"파이썬에 오신 것을 환영합니다.\")\n",
    "print(\"파이썬은 재미있습니다.\")\n",
    "print(\"문제 구동방식\")"
   ]
  },
  {
   "cell_type": "code",
   "execution_count": 3,
   "metadata": {},
   "outputs": [
    {
     "name": "stdout",
     "output_type": "stream",
     "text": [
      "0.39759036144578314\n"
     ]
    }
   ],
   "source": [
    "# 연산식을 계산한다.\n",
    "print((10.5 + 2 * 3) / (45 - 3.5))"
   ]
  },
  {
   "cell_type": "code",
   "execution_count": 4,
   "metadata": {},
   "outputs": [
    {
     "name": "stdout",
     "output_type": "stream",
     "text": [
      "화씨 35도는 섭씨 \n",
      "1.6666666666666667\n"
     ]
    }
   ],
   "source": [
    "# 화씨를 섭씨로 변환한다.\n",
    "print(\"화씨 35도는 섭씨 \")\n",
    "print(5 / 9 * (35 - 32))"
   ]
  },
  {
   "cell_type": "code",
   "execution_count": null,
   "metadata": {
    "collapsed": true
   },
   "outputs": [],
   "source": []
  }
 ],
 "metadata": {
  "kernelspec": {
   "display_name": "Python 3",
   "language": "python",
   "name": "python3"
  },
  "language_info": {
   "codemirror_mode": {
    "name": "ipython",
    "version": 3
   },
   "file_extension": ".py",
   "mimetype": "text/x-python",
   "name": "python",
   "nbconvert_exporter": "python",
   "pygments_lexer": "ipython3",
   "version": "3.6.3"
  }
 },
 "nbformat": 4,
 "nbformat_minor": 2
}
