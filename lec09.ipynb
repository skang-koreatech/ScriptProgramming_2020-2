{
 "cells": [
  {
   "cell_type": "markdown",
   "metadata": {},
   "source": [
    "- listinput"
   ]
  },
  {
   "cell_type": "code",
   "execution_count": 1,
   "metadata": {},
   "outputs": [
    {
     "name": "stdout",
     "output_type": "stream",
     "text": [
      "한 행에 공백으로 구분된 숫자 10개를 입력하세요: 1 2 3 4 5 6 7 8 9 0\n",
      "[1, 2, 3, 4, 5, 6, 7, 8, 9, 0]\n"
     ]
    }
   ],
   "source": [
    "s = input(\"한 행에 공백으로 구분된 숫자 10개를 입력하세요: \")\n",
    "items = s.split()\n",
    "lst = [eval(x) for x in items]\n",
    "print(lst)"
   ]
  },
  {
   "cell_type": "markdown",
   "metadata": {},
   "source": [
    "- printList"
   ]
  },
  {
   "cell_type": "code",
   "execution_count": 2,
   "metadata": {},
   "outputs": [
    {
     "name": "stdout",
     "output_type": "stream",
     "text": [
      "1\n",
      "2\n",
      "3\n"
     ]
    }
   ],
   "source": [
    "def printList(lst):\n",
    "    for x in lst:\n",
    "        print(x)\n",
    "\n",
    "printList([1, 2, 3])"
   ]
  },
  {
   "cell_type": "markdown",
   "metadata": {},
   "source": [
    "- PassListArgument"
   ]
  },
  {
   "cell_type": "code",
   "execution_count": 3,
   "metadata": {},
   "outputs": [
    {
     "name": "stdout",
     "output_type": "stream",
     "text": [
      "x is 1\n",
      "y[0] is 5555\n"
     ]
    }
   ],
   "source": [
    "def main():\n",
    "    x = 1 # x는 int 변수이다.\n",
    "    y = [1, 2, 3] # y는 리스트이다.\n",
    "\n",
    "    m(x, y) # x, y 인자를 사용하여 m을 호출한다.\n",
    "\n",
    "    print(\"x is\", x)\n",
    "    print(\"y[0] is\", y[0])\n",
    "\n",
    "def m(number, numbers):\n",
    "    number = 1001 # number에 새로운 값을 할당한다.\n",
    "    numbers[0] = 5555 # number[0]에 새로운 값을 할당한다.\n",
    "\n",
    "main() # main 함수를 호출한다."
   ]
  },
  {
   "cell_type": "markdown",
   "metadata": {},
   "source": [
    "- DefaultListArgument"
   ]
  },
  {
   "cell_type": "code",
   "execution_count": 4,
   "metadata": {},
   "outputs": [
    {
     "name": "stdout",
     "output_type": "stream",
     "text": [
      "[1]\n",
      "[1, 2]\n",
      "[11, 12, 13, 14, 3]\n",
      "[1, 2, 4]\n"
     ]
    }
   ],
   "source": [
    "def add(x, lst = []):\n",
    "    if x not in lst:\n",
    "        lst.append(x)\n",
    "\n",
    "    return lst\n",
    "\n",
    "def main():\n",
    "    list1 = add(1)\n",
    "    print(list1)\n",
    "\n",
    "    list2 = add(2)\n",
    "    print(list2)\n",
    "\n",
    "    list3 = add(3, [11, 12, 13, 14])\n",
    "    print(list3)\n",
    "\n",
    "    list4 = add(4)\n",
    "    print(list4)\n",
    "\n",
    "main()\n"
   ]
  },
  {
   "cell_type": "markdown",
   "metadata": {},
   "source": [
    "- DefaultNoneListArgument"
   ]
  },
  {
   "cell_type": "code",
   "execution_count": 5,
   "metadata": {},
   "outputs": [
    {
     "name": "stdout",
     "output_type": "stream",
     "text": [
      "[1]\n",
      "[2]\n",
      "[11, 12, 13, 14, 3]\n",
      "[4]\n"
     ]
    }
   ],
   "source": [
    "def add(x, lst = None):\n",
    "    if lst == None:\n",
    "        lst = []\n",
    "    if not(x in lst):\n",
    "        lst.append(x)\n",
    "\n",
    "    return lst\n",
    "\n",
    "def main():\n",
    "    list1 = add(1)\n",
    "    print(list1)\n",
    "\n",
    "    list2 = add(2)\n",
    "    print(list2)\n",
    "\n",
    "    list3 = add(3, [11, 12, 13, 14])\n",
    "    print(list3)\n",
    "\n",
    "    list4 = add(4)\n",
    "    print(list4)\n",
    "\n",
    "main()\n"
   ]
  },
  {
   "cell_type": "markdown",
   "metadata": {},
   "source": [
    "- ReturnList"
   ]
  },
  {
   "cell_type": "code",
   "execution_count": 6,
   "metadata": {},
   "outputs": [
    {
     "name": "stdout",
     "output_type": "stream",
     "text": [
      "list1:  [1, 2, 3, 4, 5, 6]\n",
      "reverse of list1:  [6, 5, 4, 3, 2, 1]\n"
     ]
    }
   ],
   "source": [
    "def reverse(lst):\n",
    "    result = []\n",
    "\n",
    "    for x in lst:\n",
    "        result.insert(0, x)\n",
    "\n",
    "    return result\n",
    "\n",
    "list1 = [1, 2, 3, 4, 5, 6]\n",
    "list2 = reverse(list1)\n",
    "\n",
    "print(\"list1: \", list1)\n",
    "print(\"reverse of list1: \", list2)\n",
    "\n"
   ]
  },
  {
   "cell_type": "markdown",
   "metadata": {},
   "source": [
    "- RandomCharacter.py"
   ]
  },
  {
   "cell_type": "code",
   "execution_count": 10,
   "metadata": {
    "collapsed": true
   },
   "outputs": [],
   "source": [
    "from random import randint # randint를 임포트한다.\n",
    "\n",
    "# ch1과 ch2 사이의 랜덤 문자를 생성한다.\n",
    "def getRandomCharacter(ch1, ch2):\n",
    "    return chr(randint(ord(ch1), ord(ch2)))\n",
    "\n",
    "# 랜덤 소문자를 생성한다.\n",
    "def getRandomLowerCaseLetter():\n",
    "    return getRandomCharacter('a', 'z')\n",
    "\n",
    "# 랜덤 대문자를 생성한다.\n",
    "def getRandomUpperCaseLetter():\n",
    "    return getRandomCharacter('A', 'Z')\n",
    "\n",
    "# 랜덤 숫자를 생성한다.\n",
    "def getRandomDigitCharacter():\n",
    "    return getRandomCharacter('0', '9')\n",
    "\n",
    "# 랜덤 문자를 생성한다.\n",
    "def getRandomASCIICharacter():\n",
    "    return getRandomCharacter(chr(0), chr(127))"
   ]
  },
  {
   "cell_type": "markdown",
   "metadata": {},
   "source": [
    "- CountLettersList (RandomCharacter 모듈을 import하여 사용하는 코드로 작성할 수 있는데, 여기서는 위의 함수를 바로 호출하여 이용하는 것으로 구현)"
   ]
  },
  {
   "cell_type": "code",
   "execution_count": 9,
   "metadata": {},
   "outputs": [
    {
     "name": "stdout",
     "output_type": "stream",
     "text": [
      "소문자:\n",
      "n g b i q c u a q g w d m y f l x t e d\n",
      "z y l y r p u k f f c z c v e v n r b t\n",
      "w p l e r y a u t d n e i o f z w t j v\n",
      "m w n b n y l t r n e v n k n f m x w f\n",
      "e z v g s a d r f h b p c q q p u c v y\n",
      "각 문자의 빈도수는:\n",
      "3 a 4 b 5 c 4 d 6 e 7 f 3 g 1 h 2 i 1 j\n",
      "2 k 4 l 3 m 8 n 1 o 4 p 4 q 5 r 1 s 5 t\n",
      "4 u 6 v 5 w 2 x 6 y 4 z "
     ]
    }
   ],
   "source": [
    "def main():\n",
    "    # 문자 리스트를 생성한다.\n",
    "    chars = createList()\n",
    "\n",
    "    # 리스트를 출력한다.\n",
    "    print(\"소문자:\")\n",
    "    displayList(chars)\n",
    "\n",
    "    # 각 문자의 빈도수를 센다.\n",
    "    counts = countLetters(chars)\n",
    "\n",
    "    # 빈도수를 출력한다.\n",
    "    print(\"각 문자의 빈도수는:\")\n",
    "    displayCounts(counts)\n",
    "\n",
    "# 문자 리스트를 생성한다.\n",
    "def createList():\n",
    "    # 빈 리스트를 생성한다.\n",
    "    chars = []\n",
    "\n",
    "    # 소문자를 랜덤하게 생성하고 리스트에 추가한다.\n",
    "    for i in range(100):\n",
    "        chars.append(getRandomLowerCaseLetter())\n",
    "\n",
    "    # 리스트를 반환한다.\n",
    "    return chars\n",
    "\n",
    "# 문자 리스트를 출력한다.\n",
    "def displayList(chars):\n",
    "    # 리스트에 포함된 문자를 한 행에 20개씩 출력한다.\n",
    "    for i in range(len(chars)):\n",
    "        if (i + 1) % 20 == 0:\n",
    "            print(chars[i])\n",
    "        else:\n",
    "            print(chars[i], end = ' ')\n",
    "\n",
    "# 각 문자의 빈도수를 센다.\n",
    "def countLetters(chars):\n",
    "    # 0으로 초기화된 26개의 정수 리스트를 생성한다.\n",
    "    counts = 26 * [0]\n",
    "\n",
    "    # 리스트의 각 소문자를 센다.\n",
    "    for i in range(len(chars)):\n",
    "        counts[ord(chars[i]) - ord('a')] += 1\n",
    "\n",
    "    return counts\n",
    "\n",
    "# 빈도수를 출력한다.\n",
    "def displayCounts(counts):\n",
    "    for i in range(len(counts)):\n",
    "        if (i + 1) % 10 == 0:\n",
    "            print(counts[i], chr(i + ord('a')))\n",
    "        else:\n",
    "            print(counts[i], chr(i + ord('a')), end = ' ')\n",
    "\n",
    "main() # main 함수를 호출한다.\n"
   ]
  },
  {
   "cell_type": "markdown",
   "metadata": {},
   "source": [
    "- LinearSearch"
   ]
  },
  {
   "cell_type": "code",
   "execution_count": 11,
   "metadata": {
    "collapsed": true
   },
   "outputs": [],
   "source": [
    "# 리스트에서 key를 찾는 함수\n",
    "def linearSearch(lst, key):\n",
    "    for i in range(len(lst)):\n",
    "        if key == lst[i]:\n",
    "            return i\n",
    "\n",
    "    return -1\n"
   ]
  },
  {
   "cell_type": "markdown",
   "metadata": {},
   "source": [
    "- BinarySearch"
   ]
  },
  {
   "cell_type": "code",
   "execution_count": 12,
   "metadata": {},
   "outputs": [
    {
     "name": "stdout",
     "output_type": "stream",
     "text": [
      "[1, 3, 5, 7, 9, 10, 11, 13, 15, 18]\n",
      "3\n",
      "6\n"
     ]
    }
   ],
   "source": [
    "# 리스트에서 키를 찾기 위해 이진 검색을 사용한다.\n",
    "def binarySearch(lst, key):\n",
    "    low = 0\n",
    "    high = len(lst) - 1\n",
    "\n",
    "    while high >= low:\n",
    "        mid = (low + high) // 2\n",
    "        if key < lst[mid]:\n",
    "            high = mid - 1\n",
    "        elif key == lst[mid]:\n",
    "            return mid\n",
    "        else:\n",
    "            low = mid + 1\n",
    "\n",
    "    return low - 1 # 현재 high < low이므로, 키는 발견되지 않음\n",
    "\n",
    "l = [1, 3, 5, 7, 9, 10, 11, 13, 15, 18]\n",
    "print(l)\n",
    "print(binarySearch(l, 7))\n",
    "print(binarySearch(l, 12))\n"
   ]
  },
  {
   "cell_type": "markdown",
   "metadata": {
    "collapsed": true
   },
   "source": [
    "- SelectionSort"
   ]
  },
  {
   "cell_type": "code",
   "execution_count": 1,
   "metadata": {
    "collapsed": true
   },
   "outputs": [],
   "source": [
    "# 원소를 오름차순으로 정렬하기 위한 함수\n",
    "def selectionSort(lst):\n",
    "    for i in range(len(lst) - 1):\n",
    "        # lst[i : len(lst)]에서 가장 작은 원소를 찾는다.\n",
    "        currentMin, currentMinIndex = lst[i], i\n",
    "\n",
    "        for j in range(i + 1, len(lst)):\n",
    "            if currentMin > lst[j]:\n",
    "                currentMin, currentMinIndex = lst[j], j\n",
    "\n",
    "        # 필요한 경우, lst[i]와 lst[currentMinIndex] 를 교환한다.\n",
    "        if currentMinIndex != i:\n",
    "            lst[currentMinIndex], lst[i] = lst[i], currentMin\n"
   ]
  },
  {
   "cell_type": "code",
   "execution_count": null,
   "metadata": {
    "collapsed": true
   },
   "outputs": [],
   "source": []
  }
 ],
 "metadata": {
  "kernelspec": {
   "display_name": "Python 3",
   "language": "python",
   "name": "python3"
  },
  "language_info": {
   "codemirror_mode": {
    "name": "ipython",
    "version": 3
   },
   "file_extension": ".py",
   "mimetype": "text/x-python",
   "name": "python",
   "nbconvert_exporter": "python",
   "pygments_lexer": "ipython3",
   "version": "3.6.10"
  }
 },
 "nbformat": 4,
 "nbformat_minor": 2
}
