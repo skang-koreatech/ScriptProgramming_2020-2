{
 "cells": [
  {
   "cell_type": "markdown",
   "metadata": {},
   "source": [
    "- TupleDemo"
   ]
  },
  {
   "cell_type": "code",
   "execution_count": 1,
   "metadata": {},
   "outputs": [
    {
     "name": "stdout",
     "output_type": "stream",
     "text": [
      "('초록', '빨강', '파랑')\n",
      "(7, 1, 2, 23, 4, 5)\n",
      "길이는 6 입니다.\n",
      "최댓값은 23 입니다.\n",
      "최솟값은 1 입니다.\n",
      "합계는 42 입니다.\n",
      "첫 번째 원소는 7\n",
      "('초록', '빨강', '파랑', 7, 1, 2, 23, 4, 5)\n",
      "('초록', '빨강', '파랑', '초록', '빨강', '파랑')\n",
      "(2, 23)\n",
      "파랑\n",
      "True\n",
      "초록 빨강 파랑 \n",
      "(1, 2, 4, 5, 7, 23)\n",
      "True\n"
     ]
    }
   ],
   "source": [
    "tuple1 = (\"초록\", \"빨강\", \"파랑\") # 튜플을 생성한다.\n",
    "print(tuple1)\n",
    "\n",
    "tuple2 = tuple([7, 1, 2, 23, 4, 5]) # 리스트로부터 튜플을 생성한다.\n",
    "print(tuple2)\n",
    "\n",
    "print(\"길이는\", len(tuple2), \"입니다.\") # len 함수를 사용한다.\n",
    "print(\"최댓값은\", max(tuple2), \"입니다.\") # max 함수를 사용한다.\n",
    "print(\"최솟값은\", min(tuple2), \"입니다.\") # min 함수를 사용한다.\n",
    "print(\"합계는\", sum(tuple2), \"입니다.\") # sum 함수를 사용한다.\n",
    "\n",
    "print(\"첫 번째 원소는\", tuple2[0]) # 인덱스 연산자를 사용한다.\n",
    "\n",
    "tuple3 = tuple1 + tuple2 # 두 개의 투플을 결합한다.\n",
    "print(tuple3)\n",
    "\n",
    "tuple3 = 2 * tuple1 # 투플을 중복한다.\n",
    "print(tuple3)\n",
    "\n",
    "print(tuple2[2 : 4]) # 슬라이싱 연산자\n",
    "print(tuple1[-1])\n",
    "\n",
    "print(2 in tuple2) # in 연산자\n",
    "\n",
    "for v in tuple1:\n",
    "    print(v, end = \" \")\n",
    "print()\n",
    "\n",
    "list1 = list(tuple2) # 튜플로부터 리스트를 생성한다.\n",
    "list1.sort()\n",
    "tuple4 = tuple(list1)\n",
    "tuple5 = tuple(list1)\n",
    "print(tuple4)\n",
    "print(tuple4 == tuple5) # 두 투플을 비교한다.\n"
   ]
  },
  {
   "cell_type": "markdown",
   "metadata": {},
   "source": [
    "- SetDemo"
   ]
  },
  {
   "cell_type": "code",
   "execution_count": 2,
   "metadata": {},
   "outputs": [
    {
     "name": "stdout",
     "output_type": "stream",
     "text": [
      "{'파랑', '빨강', '초록'}\n",
      "{1, 2, 4, 5, 7, 23}\n",
      "빨강이 set1에 있습니까? True\n",
      "길이는 6 입니다.\n",
      "최댓값은 23 입니다.\n",
      "최솟값은 1 입니다.\n",
      "합계는 42 입니다.\n",
      "{'파랑', '빨강', '노랑', '초록'}\n",
      "{'파랑', '빨강'}\n",
      "{'초록'}\n",
      "{'파랑', '빨강', '노랑'}\n",
      "False\n",
      "{'파랑', '빨강', '노랑', '초록'}\n",
      "{'파랑', '빨강', '초록'}\n"
     ]
    }
   ],
   "source": [
    "set1 = {\"초록\", \"빨강\", \"파랑\", \"빨강\"} # 세트를 생성한다.\n",
    "print(set1)\n",
    "\n",
    "set2 = set([7, 1, 2, 23, 2, 4, 5]) # 리스트로부터 세트를 생성한다.\n",
    "print(set2)\n",
    "\n",
    "print(\"빨강이 set1에 있습니까?\", \"빨강\" in set1)\n",
    "\n",
    "print(\"길이는\", len(set2), \"입니다.\") # len 함수를 사용한다.\n",
    "print(\"최댓값은\", max(set2), \"입니다.\") # max 함수를 사용한다.\n",
    "print(\"최솟값은\", min(set2), \"입니다.\") # min 함수를 사용한다.\n",
    "print(\"합계는\", sum(set2), \"입니다.\") # sum 함수를 사용한다.\n",
    "\n",
    "set3 = set1 | {\"초록\", \"노랑\"} # 세트 합\n",
    "print(set3)\n",
    "\n",
    "set3 = set1 - {\"초록\", \"노랑\"} # 세트 차\n",
    "print(set3)\n",
    "\n",
    "set3 = set1 & {\"초록\", \"노랑\"} # 세트 교\n",
    "print(set3)\n",
    "\n",
    "set3 = set1 ^ {\"초록\", \"노랑\"} # 세트 대칭차\n",
    "print(set3)\n",
    "\n",
    "list1 = list(set2) # 세트로부터 리스트를 생성한다.\n",
    "print(set1 == {\"green\", \"red\", \"blue\"}) # 두 세트를 비교한다.\n",
    "\n",
    "set1.add(\"노랑\")\n",
    "print(set1)\n",
    "\n",
    "set1.remove(\"노랑\")\n",
    "print(set1)\n"
   ]
  },
  {
   "cell_type": "markdown",
   "metadata": {},
   "source": [
    "- SetListPerformanceTest"
   ]
  },
  {
   "cell_type": "code",
   "execution_count": 3,
   "metadata": {},
   "outputs": [
    {
     "name": "stdout",
     "output_type": "stream",
     "text": [
      "10000 개의 원소가 세트에 포함되어 있는지 검사합니다.\n",
      " 실행 시간은 1 밀리초입니다.\n",
      "\n",
      " 10000 개의 원소가 리스트에 포함되어 있는지 검사합니다.\n",
      " 실행 시간은 826 밀리초입니다.\n",
      "\n",
      " 10000 개의 원소를 세트에서 제거합니다.\n",
      " 실행 시간은 1 밀리초입니다.\n",
      "\n",
      " 10000 개의 원소를 리스트에서 제거합니다.\n",
      " 실행 시간은 373 밀리초입니다.\n"
     ]
    }
   ],
   "source": [
    "import random\n",
    "import time\n",
    "\n",
    "NUMBER_OF_ELEMENTS = 10000\n",
    "\n",
    "# 리스트를 생성한다.\n",
    "lst = list(range(NUMBER_OF_ELEMENTS))\n",
    "random.shuffle(lst)\n",
    "\n",
    "# 리스트로부터 세트를 생성한다.\n",
    "s = set(lst)\n",
    "\n",
    "# 원소가 세트에 포함되어 있는지 검사한다.\n",
    "startTime = time.time() # 시작 시각을 구한다.\n",
    "for i in range(NUMBER_OF_ELEMENTS):\n",
    "    i in s\n",
    "endTime = time.time() # 종료 시각을 구한다.\n",
    "runTime = int((endTime - startTime) * 1000) # 검사 시간을 구한다.\n",
    "print(NUMBER_OF_ELEMENTS,\n",
    "    \"개의 원소가 세트에 포함되어 있는지 검사합니다.\\n\",\n",
    "    \"실행 시간은\", runTime, \"밀리초입니다.\")\n",
    "\n",
    "# 원소가 리스트에 포함되어 있는지 검사한다.\n",
    "startTime = time.time() # 시작 시각을 구한다.\n",
    "for i in range(NUMBER_OF_ELEMENTS):\n",
    "    i in lst\n",
    "endTime = time.time() # 종료 시각을 구한다.\n",
    "runTime = int((endTime - startTime) * 1000) # 검사 시간을 구한다.\n",
    "print(\"\\n\", NUMBER_OF_ELEMENTS,\n",
    "    \"개의 원소가 리스트에 포함되어 있는지 검사합니다.\\n\",\n",
    "    \"실행 시간은\", runTime, \"밀리초입니다.\")\n",
    "\n",
    "# 세트에서 한 원소씩 제거한다.\n",
    "startTime = time.time() # 시작 시각을 구한다.\n",
    "for i in range(NUMBER_OF_ELEMENTS):\n",
    "    s.remove(i)\n",
    "endTime = time.time() # 종료 시각을 구한다.\n",
    "runTime = int((endTime - startTime) * 1000) # 검사 시간을 구한다.\n",
    "print(\"\\n\", NUMBER_OF_ELEMENTS,\n",
    "    \"개의 원소를 세트에서 제거합니다.\\n\",\n",
    "    \"실행 시간은\", runTime, \"밀리초입니다.\")\n",
    "\n",
    "# 리스트에서 한 원소씩 제거한다.\n",
    "startTime = time.time() # 시작 시각을 구한다.\n",
    "for i in range(NUMBER_OF_ELEMENTS):\n",
    "    lst.remove(i)\n",
    "endTime = time.time() # 종료 시각을 구한다.\n",
    "runTime = int((endTime - startTime) * 1000) # 검사 시간을 구한다.\n",
    "print(\"\\n\", NUMBER_OF_ELEMENTS,\n",
    "    \"개의 원소를 리스트에서 제거합니다.\\n\",\n",
    "    \"실행 시간은\", runTime, \"밀리초입니다.\")\n"
   ]
  },
  {
   "cell_type": "markdown",
   "metadata": {},
   "source": [
    "- CountKeywords"
   ]
  },
  {
   "cell_type": "code",
   "execution_count": 4,
   "metadata": {},
   "outputs": [
    {
     "name": "stdout",
     "output_type": "stream",
     "text": [
      "파이썬 소스 코드 파일명을 입력하세요: GCDFunction.py\n",
      "GCDFunction.py 에 10 개의 키워드가 포함되어 있습니다.\n"
     ]
    }
   ],
   "source": [
    "import os.path\n",
    "import sys\n",
    "\n",
    "def main():\n",
    "    keyWords = {\"and\", \"as\", \"assert\", \"break\", \"class\",\n",
    "                \"continue\", \"def\", \"del\", \"elif\", \"else\",\n",
    "                \"except\", \"False\", \"finally\", \"for\", \"from\",\n",
    "                \"global\", \"if\", \"import\", \"in\", \"is\", \"lambda\",\n",
    "                \"None\", \"nonlocal\", \"not\", \"or\", \"pass\", \"raise\",\n",
    "                \"return\", \"True\", \"try\", \"while\", \"with\", \"yield\"}\n",
    "\n",
    "    filename = input(\"파이썬 소스 코드 파일명을 입력하세요: \").strip()\n",
    "\n",
    "    if not os.path.isfile(filename):  # 파일이 존재하는지 검사한다.\n",
    "        print(\"파일\", filename, \"이 존재하지 않습니다.\")\n",
    "        sys.exit()\n",
    "\n",
    "    infile = open(filename, \"r\", encoding=\"utf-8\") # 파일을 오픈한다.\n",
    "\n",
    "    text = infile.read().split() # 파일을 읽고 단어 단위로 분리한다.\n",
    "\n",
    "    count = 0\n",
    "    for word in text:\n",
    "        if word in keyWords:\n",
    "            count += 1\n",
    "\n",
    "    print(filename, \"에\", count, \"개의 키워드가 포함되어 있습니다.\")\n",
    "\n",
    "main()\n"
   ]
  },
  {
   "cell_type": "markdown",
   "metadata": {},
   "source": [
    "- CountOccurrenceOfWords"
   ]
  },
  {
   "cell_type": "code",
   "execution_count": 9,
   "metadata": {},
   "outputs": [
    {
     "name": "stdout",
     "output_type": "stream",
     "text": [
      "파일명을 입력하세요: Letters.txt\n",
      "{'this': 3, 'is': 2, 'a': 1, 'text': 1, 'file': 2, 'used': 1, 'for': 1, 'counting': 1, 'letters': 2, 'how': 1, 'many': 1, 'are': 1, 'in': 1}\n",
      "[('this', 3), ('is', 2), ('a', 1), ('text', 1), ('file', 2), ('used', 1), ('for', 1), ('counting', 1), ('letters', 2), ('how', 1), ('many', 1), ('are', 1), ('in', 1)]\n",
      "[[3, 'this'], [2, 'is'], [1, 'a'], [1, 'text'], [2, 'file'], [1, 'used'], [1, 'for'], [1, 'counting'], [2, 'letters'], [1, 'how'], [1, 'many'], [1, 'are'], [1, 'in']]\n",
      "[[1, 'a'], [1, 'are'], [1, 'counting'], [1, 'for'], [1, 'how'], [1, 'in'], [1, 'many'], [1, 'text'], [1, 'used'], [2, 'file'], [2, 'is'], [2, 'letters'], [3, 'this']]\n",
      "this\t3\n",
      "letters\t2\n",
      "is\t2\n",
      "file\t2\n",
      "used\t1\n",
      "text\t1\n",
      "many\t1\n",
      "in\t1\n",
      "how\t1\n",
      "for\t1\n"
     ]
    }
   ],
   "source": [
    "def main():\n",
    "    # 사용자로부터 파일명을 입력받는다.\n",
    "    filename = input(\"파일명을 입력하세요: \").strip()\n",
    "    infile = open(filename, \"r\", encoding='utf-8') # 파일을 연다.\n",
    "\n",
    "    wordCounts = {} # 단어의 빈도수를 저장하기 위한 딕셔너리를 생성한다.\n",
    "    for line in infile:\n",
    "        processLine(line.lower(), wordCounts)\n",
    "        \n",
    "    print(wordCounts)\n",
    "\n",
    "    pairs = list(wordCounts.items()) # 딕셔너리에서 쌍들을 얻어온다.\n",
    "    \n",
    "    print(pairs)\n",
    "\n",
    "    items = [[x, y] for (y, x) in pairs] # 리스트 내의 쌍들을 역순으로 만든다.\n",
    "\n",
    "    print(items)\n",
    "    \n",
    "    items.sort() # 항목을 정렬한다.\n",
    "\n",
    "    print(items)\n",
    "    \n",
    "    for i in range(len(items) - 1, len(items) - 11, -1):\n",
    "        print(items[i][1] + \"\\t\" + str(items[i][0]))\n",
    "\n",
    "# 행 단위로 각각의 단어를 센다.\n",
    "def processLine(line, wordCounts):\n",
    "    line = replacePunctuations(line) # 구두점을 공백으로 바꾼다.\n",
    "    words = line.split() # 한 행에서 단어들을 가져온다.\n",
    "    for word in words:\n",
    "        if word in wordCounts:\n",
    "            wordCounts[word] += 1\n",
    "        else:\n",
    "            wordCounts[word] = 1\n",
    "\n",
    "# 한 행에 있는 구두점을 공백으로 바꾼다.\n",
    "def replacePunctuations(line):\n",
    "    for ch in line:\n",
    "        if ch in \"~@#$%^&*()_-+=~<>?/,.;:!{}[]|'\\\"\":\n",
    "            line = line.replace(ch, \" \")\n",
    "\n",
    "    return line\n",
    "\n",
    "main() # main 함수를 호출한다.\n"
   ]
  },
  {
   "cell_type": "code",
   "execution_count": null,
   "metadata": {
    "collapsed": true
   },
   "outputs": [],
   "source": []
  }
 ],
 "metadata": {
  "kernelspec": {
   "display_name": "Python 3",
   "language": "python",
   "name": "python3"
  },
  "language_info": {
   "codemirror_mode": {
    "name": "ipython",
    "version": 3
   },
   "file_extension": ".py",
   "mimetype": "text/x-python",
   "name": "python",
   "nbconvert_exporter": "python",
   "pygments_lexer": "ipython3",
   "version": "3.6.10"
  }
 },
 "nbformat": 4,
 "nbformat_minor": 2
}
