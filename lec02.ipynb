{
 "cells": [
  {
   "cell_type": "code",
   "execution_count": 1,
   "metadata": {},
   "outputs": [
    {
     "name": "stdout",
     "output_type": "stream",
     "text": [
      "반지름이 20 인 원의 넓이는 1256.636 입니다.\n"
     ]
    }
   ],
   "source": [
    "# 반지름값을 radius에 할당한다.\n",
    "radius = 20\n",
    "\n",
    "# 넓이를 계산한다.\n",
    "area = radius * radius * 3.14159\n",
    "\n",
    "# 결과를 출력한다.\n",
    "print(\"반지름이\", radius, \"인 원의 넓이는\", area, \"입니다.\")"
   ]
  },
  {
   "cell_type": "code",
   "execution_count": 2,
   "metadata": {},
   "outputs": [
    {
     "name": "stdout",
     "output_type": "stream",
     "text": [
      "반지름을 입력하세요: 10\n",
      "반지름이 10 인 원의 넓이는 314.159 입니다.\n"
     ]
    }
   ],
   "source": [
    "# 사용자로부터 반지름 값을 입력받는다.\n",
    "radius = eval(input(\"반지름을 입력하세요: \"))\n",
    "\n",
    "# 넓이를 계산한다.\n",
    "area = radius * radius * 3.14159\n",
    "\n",
    "# 결과를 출력한다.\n",
    "print(\"반지름이\", radius, \"인 원의 넓이는\", area, \"입니다.\")"
   ]
  },
  {
   "cell_type": "code",
   "execution_count": 4,
   "metadata": {},
   "outputs": [
    {
     "name": "stdout",
     "output_type": "stream",
     "text": [
      "첫 번째 숫자를 입력하세요: 5\n",
      "두 번째 숫자를 입력하세요: 7\n",
      "세 번째 숫자를 입력하세요: 9\n",
      "5 7 9 의 평균은 7.0 입니다.\n"
     ]
    }
   ],
   "source": [
    "# 사용자로부터 세 개의 숫자를 입력받는다.\n",
    "number1 = eval(input(\"첫 번째 숫자를 입력하세요: \"))\n",
    "number2 = eval(input(\"두 번째 숫자를 입력하세요: \"))\n",
    "number3 = eval(input(\"세 번째 숫자를 입력하세요: \"))\n",
    "\n",
    "# 평균을 계산한다.\n",
    "average = (number1 + number2 + number3) / 3\n",
    "\n",
    "# 결과를 출력한다.\n",
    "print(number1, number2, number3,\n",
    "    \"의 평균은\", average, \"입니다.\")"
   ]
  },
  {
   "cell_type": "code",
   "execution_count": 5,
   "metadata": {},
   "outputs": [
    {
     "name": "stdout",
     "output_type": "stream",
     "text": [
      "세 개의 숫자를 콤마(,)로 구분하여 입력하세요: 3,4,5\n",
      "3 4 5 의 평균은 4.0 입니다.\n"
     ]
    }
   ],
   "source": [
    "# 사용자로부터 세 개의 숫자를 입력받는다.\n",
    "number1, number2, number3 = eval(input(\n",
    "  \"세 개의 숫자를 콤마(,)로 구분하여 입력하세요: \"))\n",
    "\n",
    "# 평균을 계산한다.\n",
    "average = (number1 + number2 + number3) / 3\n",
    "\n",
    "# 결과를 출력한다.\n",
    "print(number1, number2, number3,\n",
    "    \"의 평균은\", average, \"입니다.\")"
   ]
  },
  {
   "cell_type": "code",
   "execution_count": 6,
   "metadata": {},
   "outputs": [
    {
     "name": "stdout",
     "output_type": "stream",
     "text": [
      "초 값을 정수로 입력하세요: 160\n",
      "160 초는 2 분과 40 초입니다.\n"
     ]
    }
   ],
   "source": [
    "# 사용자로부터 입력을 받는다.\n",
    "seconds = eval(input(\"초 값을 정수로 입력하세요: \"))\n",
    "\n",
    "# 분 값과 나머지 초 값을 얻는다.\n",
    "minutes = seconds // 60     # 초 단위의 시간에서 분 값을 계산한다.\n",
    "remainingSeconds = seconds % 60   # 나머지 초 값을 계산한다.\n",
    "print(seconds, \"초는\", minutes,\n",
    "  \"분과\", remainingSeconds, \"초입니다.\")"
   ]
  },
  {
   "cell_type": "code",
   "execution_count": 9,
   "metadata": {},
   "outputs": [
    {
     "name": "stdout",
     "output_type": "stream",
     "text": [
      "총 구입액을 입력하세요: 100\n",
      "판매세는 6.0 입니다.\n"
     ]
    }
   ],
   "source": [
    "# 사용자로부터 입력을 받는다.\n",
    "purchaseAmount = eval(input(\"총 구입액을 입력하세요: \"))\n",
    "\n",
    "# 판매세를 계산한다.\n",
    "tax = purchaseAmount * 0.06\n",
    "\n",
    "# 판매세를 소수점 둘째자리까지 출력한다.\n",
    "print(\"판매세는\", int(tax * 100) / 100.0, \"입니다.\")"
   ]
  },
  {
   "cell_type": "code",
   "execution_count": 10,
   "metadata": {},
   "outputs": [
    {
     "name": "stdout",
     "output_type": "stream",
     "text": [
      "현재 시간은11:52:13 GMT 입니다.\n"
     ]
    }
   ],
   "source": [
    "import time\n",
    "\n",
    "currentTime = time.time() # 현재 시간을 얻어온다.\n",
    "\n",
    "# 1970년 1월 1일 자정 이후로의 전체 초 값을 얻어온다.\n",
    "totalSeconds = int(currentTime)\n",
    "\n",
    "# 현재 시간의 초 값을 계산한다.\n",
    "currentSecond = totalSeconds % 60\n",
    "\n",
    "# 전체 분 값을 계산한다.\n",
    "totalMinutes = totalSeconds // 60\n",
    "\n",
    "# 현재 시간의 분 값을 계산한다.\n",
    "currentMinute = totalMinutes % 60\n",
    "\n",
    "# 전체 시 값을 계산한다.\n",
    "totalHours = totalMinutes // 60\n",
    "\n",
    "# 현재 시간의 시 값을 계산한다.\n",
    "currentHour = totalHours % 24\n",
    "\n",
    "# 결과를 출력한다.\n",
    "print(\"현재 시간은\" + str(currentHour) + \":\"\n",
    "    + str(currentMinute) + \":\" + str(currentSecond) + \" GMT 입니다.\")"
   ]
  },
  {
   "cell_type": "code",
   "execution_count": null,
   "metadata": {
    "collapsed": true
   },
   "outputs": [],
   "source": []
  }
 ],
 "metadata": {
  "kernelspec": {
   "display_name": "Python 3",
   "language": "python",
   "name": "python3"
  },
  "language_info": {
   "codemirror_mode": {
    "name": "ipython",
    "version": 3
   },
   "file_extension": ".py",
   "mimetype": "text/x-python",
   "name": "python",
   "nbconvert_exporter": "python",
   "pygments_lexer": "ipython3",
   "version": "3.6.3"
  }
 },
 "nbformat": 4,
 "nbformat_minor": 2
}
