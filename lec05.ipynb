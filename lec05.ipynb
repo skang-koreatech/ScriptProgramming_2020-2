{
 "cells": [
  {
   "cell_type": "markdown",
   "metadata": {},
   "source": [
    "RepeatSubtractionQuiz"
   ]
  },
  {
   "cell_type": "code",
   "execution_count": 1,
   "metadata": {},
   "outputs": [
    {
     "name": "stdout",
     "output_type": "stream",
     "text": [
      "7 - 2은/는 얼마입니까? 8\n",
      "틀렸습니다. 다시 해보세요. 7 - 2은/는 얼마입니까? 2\n",
      "틀렸습니다. 다시 해보세요. 7 - 2은/는 얼마입니까? 6\n",
      "틀렸습니다. 다시 해보세요. 7 - 2은/는 얼마입니까? 5\n",
      "정답!\n"
     ]
    }
   ],
   "source": [
    "import random\n",
    "\n",
    "# 1. 두 개의 한 자리 정수를 랜덤으로 생성한다.\n",
    "number1 = random.randint(0, 9)\n",
    "number2 = random.randint(0, 9)\n",
    "\n",
    "# 2. number1 < number2이면, number1과 number2를 교환한다.\n",
    "if number1 < number2:\n",
    "    number1, number2 = number2, number1\n",
    "\n",
    "# 3. 사용자료부터 \"number1 - number2는 얼마입니까?\"에 대한 답을 입력받는다.\n",
    "answer = eval(input(str(number1) + \" - \"\n",
    "    + str(number2) + \"은/는 얼마입니까? \"))\n",
    "\n",
    "# 4. 정확한 답을 입력할 때까지 질문을 반복한다.\n",
    "while number1 - number2 != answer:\n",
    "    answer = eval(input(\"틀렸습니다. 다시 해보세요. \"\n",
    "        + str(number1) + \" - \" + str(number2) + \"은/는 얼마입니까? \"))\n",
    "\n",
    "print(\"정답!\")"
   ]
  },
  {
   "cell_type": "markdown",
   "metadata": {},
   "source": [
    "GuessNumber"
   ]
  },
  {
   "cell_type": "code",
   "execution_count": 2,
   "metadata": {},
   "outputs": [
    {
     "name": "stdout",
     "output_type": "stream",
     "text": [
      "0과 100 사이의 마법수를 맞춰보세요.\n",
      "마법수는 무엇일까요?: 21\n",
      "너무 작습니다.\n",
      "마법수는 무엇일까요?: 54\n",
      "너무 작습니다.\n",
      "마법수는 무엇일까요?: 78\n",
      "너무 큽니다.\n",
      "마법수는 무엇일까요?: 62\n",
      "너무 작습니다.\n",
      "마법수는 무엇일까요?: 69\n",
      "너무 작습니다.\n",
      "마법수는 무엇일까요?: 73\n",
      "정답, 마법수는 73 입니다.\n"
     ]
    }
   ],
   "source": [
    "import random\n",
    "\n",
    "# 사용자가 맞춰야하는 마법수를 생성한다.\n",
    "number = random.randint(0, 100)\n",
    "\n",
    "print(\"0과 100 사이의 마법수를 맞춰보세요.\")\n",
    "\n",
    "guess = -1\n",
    "while guess != number:\n",
    "    # 사용자로부터 추측값을 입력받는다.\n",
    "    guess = eval(input(\"마법수는 무엇일까요?: \"))\n",
    "\n",
    "    if guess == number:\n",
    "        print(\"정답, 마법수는\", number, \"입니다.\")\n",
    "    elif guess > number:\n",
    "        print(\"너무 큽니다.\")\n",
    "    else:\n",
    "        print(\"너무 작습니다.\")"
   ]
  },
  {
   "cell_type": "markdown",
   "metadata": {},
   "source": [
    "GuessNumberOneTime"
   ]
  },
  {
   "cell_type": "code",
   "execution_count": 2,
   "metadata": {},
   "outputs": [
    {
     "name": "stdout",
     "output_type": "stream",
     "text": [
      "0과 100 사이의 마법수를 맞춰보세요.\n",
      "마법수는 무엇일까요?: 35\n",
      "너무 작습니다.\n"
     ]
    }
   ],
   "source": [
    "import random\n",
    "\n",
    "# 사용자가 맞춰야하는 마법수를 생성한다.\n",
    "number = random.randint(0, 100)\n",
    "\n",
    "print(\"0과 100 사이의 마법수를 맞춰보세요.\")\n",
    "\n",
    "# 사용자로부터 추측값을 입력받는다.\n",
    "guess = eval(input(\"마법수는 무엇일까요?: \"))\n",
    "\n",
    "if guess == number:\n",
    "    print(\"정답, 마법수는\" + str(number), \"입니다.\")\n",
    "elif guess > number:\n",
    "    print(\"너무 큽니다.\")\n",
    "else:\n",
    "    print(\"너무 작습니다.\")"
   ]
  },
  {
   "cell_type": "markdown",
   "metadata": {},
   "source": [
    "SentinelValue"
   ]
  },
  {
   "cell_type": "code",
   "execution_count": 4,
   "metadata": {},
   "outputs": [
    {
     "name": "stdout",
     "output_type": "stream",
     "text": [
      "정수를 입력하세요 (입력이 0이면 종료됩니다): 5\n",
      "정수를 입력하세요 (입력이 0이면 종료됩니다): 3\n",
      "정수를 입력하세요 (입력이 0이면 종료됩니다): 0\n",
      "합계는 8 입니다.\n"
     ]
    }
   ],
   "source": [
    "sum = 0\n",
    "\n",
    "data = eval(input(\"정수를 입력하세요 (입력이 0이면 \" +  \\\n",
    "    \"종료됩니다): \"))\n",
    "\n",
    "# 입력이 0이 아닐 때까지 데이터를 계속 읽는다.\n",
    "while data != 0:\n",
    "    sum += data\n",
    "    data = eval(input(\"정수를 입력하세요 (입력이 0이면 \" +  \\\n",
    "        \"종료됩니다): \"))\n",
    "\n",
    "print(\"합계는\", sum, \"입니다.\")"
   ]
  },
  {
   "cell_type": "markdown",
   "metadata": {},
   "source": [
    "MultiplicationTable"
   ]
  },
  {
   "cell_type": "code",
   "execution_count": 5,
   "metadata": {},
   "outputs": [
    {
     "name": "stdout",
     "output_type": "stream",
     "text": [
      "            구구단표\n",
      "  |   1   2   3   4   5   6   7   8   9\n",
      "-----------------------------------------\n",
      "1 |   1   2   3   4   5   6   7   8   9\n",
      "2 |   2   4   6   8  10  12  14  16  18\n",
      "3 |   3   6   9  12  15  18  21  24  27\n",
      "4 |   4   8  12  16  20  24  28  32  36\n",
      "5 |   5  10  15  20  25  30  35  40  45\n",
      "6 |   6  12  18  24  30  36  42  48  54\n",
      "7 |   7  14  21  28  35  42  49  56  63\n",
      "8 |   8  16  24  32  40  48  56  64  72\n",
      "9 |   9  18  27  36  45  54  63  72  81\n"
     ]
    }
   ],
   "source": [
    "print(\"            구구단표\")\n",
    "\n",
    "# 표 머리글을 출력한다\n",
    "print(\"  |\", end = '')\n",
    "for j in range(1, 10):\n",
    "    print(\"  \", j, end = '')\n",
    "print() # 새로운 행으로 건너뛴다.\n",
    "print(\"-----------------------------------------\")\n",
    "\n",
    "# 표 몸체를 출력한다.\n",
    "for i in range(1, 10):\n",
    "    print(i, \"|\", end = '')\n",
    "    for j in range(1, 10):\n",
    "        # 곱셈 결과를 출력하고 적절하게 정렬한다.\n",
    "        print(format(i * j, '4d'), end = '')\n",
    "    print()# 새로운 행으로 건너뛴다."
   ]
  },
  {
   "cell_type": "markdown",
   "metadata": {},
   "source": [
    "GreatestCommonDivisor"
   ]
  },
  {
   "cell_type": "code",
   "execution_count": 6,
   "metadata": {},
   "outputs": [
    {
     "name": "stdout",
     "output_type": "stream",
     "text": [
      "첫 번째 정수를 입력하세요: 4\n",
      "두 번째 정수를 입력하세요: 8\n",
      "4 와/과 8 의 최대공약수는 4 입니다.\n"
     ]
    }
   ],
   "source": [
    "#사용자로부터 두 정수를 입력 받는다.\n",
    "n1 = eval(input(\"첫 번째 정수를 입력하세요: \"))\n",
    "n2 = eval(input(\"두 번째 정수를 입력하세요: \"))\n",
    "\n",
    "gcd = 1\n",
    "k = 2\n",
    "while k <= n1 and k <= n2:\n",
    "    if n1 % k == 0 and n2 % k == 0:\n",
    "        gcd = k\n",
    "    k += 1\n",
    "\n",
    "print( n1, \"와/과\", n2, \"의 최대공약수는\", gcd, \"입니다.\")"
   ]
  },
  {
   "cell_type": "markdown",
   "metadata": {},
   "source": [
    "PrimeNumber"
   ]
  },
  {
   "cell_type": "code",
   "execution_count": 7,
   "metadata": {},
   "outputs": [
    {
     "name": "stdout",
     "output_type": "stream",
     "text": [
      "첫 50개의 소수\n",
      "    2    3    5    7   11   13   17   19   23   29\n",
      "   31   37   41   43   47   53   59   61   67   71\n",
      "   73   79   83   89   97  101  103  107  109  113\n",
      "  127  131  137  139  149  151  157  163  167  173\n",
      "  179  181  191  193  197  199  211  223  227  229\n"
     ]
    }
   ],
   "source": [
    "NUMBER_OF_PRIMES = 50  # 출력되어야 하는 소수의 개수\n",
    "NUMBER_OF_PRIMES_PER_LINE = 10 # 한 행당 출력되는 소수의 개수\n",
    "count = 0 # 소수의 개수를 센다.\n",
    "number = 2 # 소수성을 검사해야 하는 숫자\n",
    "\n",
    "print(\"첫 50개의 소수\")\n",
    "\n",
    "# 반복적으로 소수를 찾는다.\n",
    "while count < NUMBER_OF_PRIMES:\n",
    "    # number가 수소라고 가정한다.\n",
    "    isPrime = True # 현재 number가 소수인가?\n",
    "\n",
    "    # number가 소수인지 검사한다.\n",
    "    divisor = 2\n",
    "    while divisor <= number / 2:\n",
    "        if number % divisor == 0:\n",
    "            # 참이라면 number는 소수가 아니다.\n",
    "            isPrime = False  # isPrime을 거짓으로 설정한다.\n",
    "            break  # while 루프를 종료한다.\n",
    "        divisor += 1\n",
    "\n",
    "    # 소수를 출력하고 count를 증가시킨다.\n",
    "    if isPrime:\n",
    "        count += 1 # count를 증가시킨다.\n",
    "\n",
    "        print(format(number, '5d'), end = '')\n",
    "        if count % NUMBER_OF_PRIMES_PER_LINE == 0:\n",
    "            # number를 출력하고 다음 행으로 진행한다.\n",
    "            print() # 다음행으로 건너뛴다.\n",
    "\n",
    "    # 다음 number가 소수인지 검사한다.\n",
    "    number += 1"
   ]
  },
  {
   "cell_type": "code",
   "execution_count": null,
   "metadata": {
    "collapsed": true
   },
   "outputs": [],
   "source": []
  }
 ],
 "metadata": {
  "kernelspec": {
   "display_name": "Python 3",
   "language": "python",
   "name": "python3"
  },
  "language_info": {
   "codemirror_mode": {
    "name": "ipython",
    "version": 3
   },
   "file_extension": ".py",
   "mimetype": "text/x-python",
   "name": "python",
   "nbconvert_exporter": "python",
   "pygments_lexer": "ipython3",
   "version": "3.6.10"
  }
 },
 "nbformat": 4,
 "nbformat_minor": 2
}
