{
 "cells": [
  {
   "cell_type": "markdown",
   "metadata": {},
   "source": [
    "- PassTwoDimensionalList"
   ]
  },
  {
   "cell_type": "code",
   "execution_count": 1,
   "metadata": {},
   "outputs": [
    {
     "name": "stdout",
     "output_type": "stream",
     "text": [
      "행의 개수를 입력하세요: 5\n",
      "열의 개수를 입력하세요: 3\n",
      "값을 입력하고 엔터를 누르세요: 1\n",
      "값을 입력하고 엔터를 누르세요: 4\n",
      "값을 입력하고 엔터를 누르세요: 2\n",
      "값을 입력하고 엔터를 누르세요: 7\n",
      "값을 입력하고 엔터를 누르세요: 6\n",
      "값을 입력하고 엔터를 누르세요: 4\n",
      "값을 입력하고 엔터를 누르세요: 4\n",
      "값을 입력하고 엔터를 누르세요: 3\n",
      "값을 입력하고 엔터를 누르세요: 4\n",
      "값을 입력하고 엔터를 누르세요: 2\n",
      "값을 입력하고 엔터를 누르세요: 1\n",
      "값을 입력하고 엔터를 누르세요: 8\n",
      "값을 입력하고 엔터를 누르세요: 7\n",
      "값을 입력하고 엔터를 누르세요: 4\n",
      "값을 입력하고 엔터를 누르세요: 3\n",
      "[[1, 4, 2], [7, 6, 4], [4, 3, 4], [2, 1, 8], [7, 4, 3]]\n",
      "\n",
      "모든 원소의 총 합은 60 입니다.\n"
     ]
    }
   ],
   "source": [
    "def getMatrix():\n",
    "    matrix = [] # 비어있는 리스트를 생성한다.\n",
    "\n",
    "    numberOfRows = eval(input(\"행의 개수를 입력하세요: \"))\n",
    "    numberOfColumns = eval(input(\"열의 개수를 입력하세요: \"))\n",
    "    for row in range(numberOfRows):\n",
    "        matrix.append([]) # 새로운 공백을 추가한다.\n",
    "        for column in range(numberOfColumns):\n",
    "            value = eval(input(\"값을 입력하고 엔터를 누르세요: \"))\n",
    "            matrix[row].append(value)\n",
    "\n",
    "    return matrix\n",
    "\n",
    "def accumulate(m):\n",
    "    total = 0\n",
    "    for row in m:\n",
    "        total += sum(row)\n",
    "\n",
    "    return total\n",
    "\n",
    "def main():\n",
    "    m = getMatrix() # 리스트를 가져온다.\n",
    "    print(m)\n",
    "\n",
    "    # 원소의 합계를 출력한다.\n",
    "    print(\"\\n모든 원소의 총 합은\", accumulate(m), \"입니다.\")\n",
    "\n",
    "main() # main 함수를 호출한다."
   ]
  },
  {
   "cell_type": "markdown",
   "metadata": {},
   "source": [
    "- GradeExam"
   ]
  },
  {
   "cell_type": "code",
   "execution_count": 2,
   "metadata": {},
   "outputs": [
    {
     "name": "stdout",
     "output_type": "stream",
     "text": [
      "0 번 학생의 정답 문항의 개수는 7 입니다.\n",
      "1 번 학생의 정답 문항의 개수는 6 입니다.\n",
      "2 번 학생의 정답 문항의 개수는 5 입니다.\n",
      "3 번 학생의 정답 문항의 개수는 4 입니다.\n",
      "4 번 학생의 정답 문항의 개수는 8 입니다.\n",
      "5 번 학생의 정답 문항의 개수는 7 입니다.\n",
      "6 번 학생의 정답 문항의 개수는 7 입니다.\n",
      "7 번 학생의 정답 문항의 개수는 7 입니다.\n"
     ]
    }
   ],
   "source": [
    "def main():\n",
    "    # 문제에 대한 학생의 답안\n",
    "    answers = [\n",
    "      ['A', 'B', 'A', 'C', 'C', 'D', 'E', 'E', 'A', 'D'],\n",
    "      ['D', 'B', 'A', 'B', 'C', 'A', 'E', 'E', 'A', 'D'],\n",
    "      ['E', 'D', 'D', 'A', 'C', 'B', 'E', 'E', 'A', 'D'],\n",
    "      ['C', 'B', 'A', 'E', 'D', 'C', 'E', 'E', 'A', 'D'],\n",
    "      ['A', 'B', 'D', 'C', 'C', 'D', 'E', 'E', 'A', 'D'],\n",
    "      ['B', 'B', 'E', 'C', 'C', 'D', 'E', 'E', 'A', 'D'],\n",
    "      ['B', 'B', 'A', 'C', 'C', 'D', 'E', 'E', 'A', 'D'],\n",
    "      ['E', 'B', 'E', 'C', 'C', 'D', 'E', 'E', 'A', 'D']]\n",
    "\n",
    "    # 문제의 정답\n",
    "    keys = ['D', 'B', 'D', 'C', 'C', 'D', 'A', 'E', 'A', 'D']\n",
    "\n",
    "    # 모든 답안을 평가한다.\n",
    "    for i in range(len(answers)):\n",
    "        # 한 학생에 대한 답변을 평가한다.\n",
    "        correctCount = 0\n",
    "        for j in range(len(answers[i])):\n",
    "            if answers[i][j] == keys[j]:\n",
    "                correctCount += 1\n",
    "\n",
    "        print(i, \"번 학생의 정답 문항의 개수는\", correctCount, \"입니다.\")\n",
    "\n",
    "main() # main 함수를 호출한다."
   ]
  },
  {
   "cell_type": "code",
   "execution_count": null,
   "metadata": {
    "collapsed": true
   },
   "outputs": [],
   "source": []
  }
 ],
 "metadata": {
  "kernelspec": {
   "display_name": "Python 3",
   "language": "python",
   "name": "python3"
  },
  "language_info": {
   "codemirror_mode": {
    "name": "ipython",
    "version": 3
   },
   "file_extension": ".py",
   "mimetype": "text/x-python",
   "name": "python",
   "nbconvert_exporter": "python",
   "pygments_lexer": "ipython3",
   "version": "3.6.10"
  }
 },
 "nbformat": 4,
 "nbformat_minor": 2
}
