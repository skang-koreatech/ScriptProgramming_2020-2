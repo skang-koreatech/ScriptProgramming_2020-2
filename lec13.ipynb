{
 "cells": [
  {
   "cell_type": "markdown",
   "metadata": {},
   "source": [
    "- GeometricObject"
   ]
  },
  {
   "cell_type": "code",
   "execution_count": 1,
   "metadata": {},
   "outputs": [],
   "source": [
    "class GeometricObject:\n",
    "    def __init__(self, color = \"green\", filled = True):\n",
    "        self.__color = color\n",
    "        self.__filled = filled\n",
    "\n",
    "    def getColor(self):\n",
    "        return self.__color\n",
    "\n",
    "    def setColor(self, color):\n",
    "        self.__color = color\n",
    "\n",
    "    def isFilled(self):\n",
    "        return self.__filled\n",
    "\n",
    "    def setFilled(self, filled):\n",
    "        self.__filled = filled\n",
    "\n",
    "    def __str__(self):\n",
    "        return \"색상: \" + self.__color + \\\n",
    "            \" 채우기: \" + str(self.__filled)"
   ]
  },
  {
   "cell_type": "markdown",
   "metadata": {},
   "source": [
    "- CircleFromGeometricObject"
   ]
  },
  {
   "cell_type": "code",
   "execution_count": 2,
   "metadata": {},
   "outputs": [],
   "source": [
    "from GeometricObject import GeometricObject\n",
    "import math # math.pi를 GeometricObject 클래스에서 사용한다.\n",
    "\n",
    "class Circle(GeometricObject):\n",
    "    def __init__(self, radius):\n",
    "        super().__init__()\n",
    "        self.__radius = radius\n",
    "\n",
    "    def getRadius(self):\n",
    "        return self.__radius\n",
    "\n",
    "    def setRadius(self, radius):\n",
    "        self.__radius = radius\n",
    "\n",
    "    def getArea(self):\n",
    "        return self.__radius * self.__radius * math.pi\n",
    "\n",
    "    def getDiameter(self):\n",
    "        return 2 * self.__radius\n",
    "\n",
    "    def getPerimeter(self):\n",
    "        return 2 * self.__radius * math.pi\n",
    "\n",
    "    def printCircle(self):\n",
    "        print(self.__str__() + \" 반지름: \" + str(self.__radius))"
   ]
  },
  {
   "cell_type": "markdown",
   "metadata": {},
   "source": [
    "- RectangleFromGeometricObject"
   ]
  },
  {
   "cell_type": "code",
   "execution_count": 3,
   "metadata": {},
   "outputs": [],
   "source": [
    "from GeometricObject import GeometricObject\n",
    "\n",
    "class Rectangle(GeometricObject):\n",
    "    def __init__(self, width = 1, height = 1):\n",
    "        super().__init__()\n",
    "        self.__width = width\n",
    "        self.__height = height\n",
    "\n",
    "    def getWidth(self):\n",
    "        return self.__width\n",
    "\n",
    "    def setWidth(self, width):\n",
    "        self.__width = width\n",
    "\n",
    "    def getHeight(self):\n",
    "        return self.__height\n",
    "\n",
    "    def setHeight(self, height):\n",
    "        self.__height = self.__height\n",
    "\n",
    "    def getArea(self):\n",
    "        return self.__width * self.__height\n",
    "\n",
    "    def getPerimeter(self):\n",
    "        return 2 * (self.__width + self.__height)"
   ]
  },
  {
   "cell_type": "markdown",
   "metadata": {},
   "source": [
    "- Animal"
   ]
  },
  {
   "cell_type": "code",
   "execution_count": 6,
   "metadata": {},
   "outputs": [
    {
     "name": "stdout",
     "output_type": "stream",
     "text": [
      "<__main__.Dog object at 0x000002EBED1F3128>\n",
      "<__main__.Dog object at 0x000002EBED1EFF98>\n"
     ]
    }
   ],
   "source": [
    "class Animal:\n",
    "    def __init__(self, name = \"\"):\n",
    "        self.name = name\n",
    "\n",
    "    def eat(self):\n",
    "        print(\"동물이 먹고 있습니다.\")\n",
    "\n",
    "class Dog(Animal):\n",
    "    def __init__(self, name = \"dog\", color = \"white\"):\n",
    "        super().__init__(name)\n",
    "        self.color = color\n",
    "\n",
    "    def eat(self):\n",
    "        print(\"강아지가 먹고 있습니다.\")\n",
    "\n",
    "    #def __str__(self):\n",
    "    #    return \"Dog name: \" + self.name + \\\n",
    "    #           \" color: \" + self.color\n",
    "\n",
    "d = Dog()\n",
    "#d.eat()\n",
    "print(d) # print(d.__str__())와 동일\n",
    "\n",
    "d2 = Dog('wow', 'black')\n",
    "print(d2)"
   ]
  },
  {
   "cell_type": "markdown",
   "metadata": {},
   "source": [
    "- PolyAnimal"
   ]
  },
  {
   "cell_type": "code",
   "execution_count": 7,
   "metadata": {},
   "outputs": [
    {
     "name": "stdout",
     "output_type": "stream",
     "text": [
      "dog1: 멍멍\n",
      "dog2: 멍멍\n",
      "cat1: 야옹\n"
     ]
    }
   ],
   "source": [
    "class Animal:\n",
    "    def __init__(self, name):\n",
    "        self.name = name\n",
    "    def speak(self):\n",
    "        return '알 수 없음'\n",
    "\n",
    "class Dog(Animal):\n",
    "    def speak(self):\n",
    "        return '멍멍'\n",
    "\n",
    "class Cat(Animal):\n",
    "    def speak(self):\n",
    "        return '야옹'\n",
    "\n",
    "animalList = [Dog('dog1'), Dog('dog2'), Cat('cat1')]\n",
    "\n",
    "for a in animalList:\n",
    "    print(a.name + ': ' + a.speak())"
   ]
  },
  {
   "cell_type": "markdown",
   "metadata": {},
   "source": [
    "- DynamicBindingDemo"
   ]
  },
  {
   "cell_type": "code",
   "execution_count": 8,
   "metadata": {},
   "outputs": [
    {
     "name": "stdout",
     "output_type": "stream",
     "text": [
      "대학생\n",
      "대학원생\n"
     ]
    }
   ],
   "source": [
    "class Student:\n",
    "    def __str__(self):\n",
    "       return \"대학생\"\n",
    "\n",
    "    def printStudent(self):\n",
    "       print(self.__str__())\n",
    "\n",
    "class GraduateStudent(Student):\n",
    "    def __str__(self):\n",
    "       return \"대학원생\"\n",
    "\n",
    "a = Student()\n",
    "b = GraduateStudent()\n",
    "a.printStudent()\n",
    "b.printStudent()\n"
   ]
  },
  {
   "cell_type": "markdown",
   "metadata": {},
   "source": [
    "- IsinstanceDemo"
   ]
  },
  {
   "cell_type": "code",
   "execution_count": 9,
   "metadata": {},
   "outputs": [
    {
     "name": "stdout",
     "output_type": "stream",
     "text": [
      "원...\n",
      "넓이는 50.26548245743669 입니다.\n",
      "둘레는 25.132741228718345 입니다.\n",
      "지름은 8 입니다.\n",
      "사각형...\n",
      "넓이는 3 입니다.\n",
      "둘레는 8 입니다.\n",
      "폭은 1 입니다.\n",
      "높이는 3 입니다.\n"
     ]
    }
   ],
   "source": [
    "def main():\n",
    "    # 원과 사각형의 속성을 출력한다\n",
    "    c = Circle(4)\n",
    "    r = Rectangle(1, 3)\n",
    "    print(\"원...\")\n",
    "    displayObject(c)\n",
    "    print(\"사각형...\")\n",
    "    displayObject(r)\n",
    "\n",
    "# 기하 객체의 속성을 출력한다.\n",
    "def displayObject(g):\n",
    "    print(\"넓이는\", g.getArea(), \"입니다.\")\n",
    "    print(\"둘레는\", g.getPerimeter(), \"입니다.\")\n",
    "\n",
    "    if isinstance(g, Circle):\n",
    "        print(\"지름은\", g.getDiameter(), \"입니다.\")\n",
    "    elif isinstance(g, Rectangle):\n",
    "        print(\"폭은\", g.getWidth(), \"입니다.\")\n",
    "        print(\"높이는\", g.getHeight(), \"입니다.\")\n",
    "\n",
    "main() # main 함수를 호출한다."
   ]
  },
  {
   "cell_type": "code",
   "execution_count": null,
   "metadata": {},
   "outputs": [],
   "source": []
  }
 ],
 "metadata": {
  "kernelspec": {
   "display_name": "Python 3",
   "language": "python",
   "name": "python3"
  },
  "language_info": {
   "codemirror_mode": {
    "name": "ipython",
    "version": 3
   },
   "file_extension": ".py",
   "mimetype": "text/x-python",
   "name": "python",
   "nbconvert_exporter": "python",
   "pygments_lexer": "ipython3",
   "version": "3.6.10"
  }
 },
 "nbformat": 4,
 "nbformat_minor": 4
}
