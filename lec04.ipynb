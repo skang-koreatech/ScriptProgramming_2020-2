{
 "cells": [
  {
   "cell_type": "markdown",
   "metadata": {},
   "source": [
    "AdditionQuiz"
   ]
  },
  {
   "cell_type": "code",
   "execution_count": 1,
   "metadata": {},
   "outputs": [
    {
     "name": "stdout",
     "output_type": "stream",
     "text": [
      "0 + 7은/는 얼마입니까? 7\n",
      "0 + 7 = 7 은/는 True\n"
     ]
    }
   ],
   "source": [
    "import random\n",
    "\n",
    "# 랜덤 숫자를 생성한다.\n",
    "number1 = random.randint(0, 9)\n",
    "number2 = random.randint(0, 9)\n",
    "\n",
    "# 사용자로부터 답을 입력받는다.\n",
    "answer = eval(input(str(number1) + \" + \"\n",
    "    + str(number2) + \"은/는 얼마입니까? \"))\n",
    "\n",
    "# 결과를 출력한다.\n",
    "print(number1, \"+\", number2, \"=\", answer,\n",
    "    \"은/는\", number1 + number2 == answer)"
   ]
  },
  {
   "cell_type": "markdown",
   "metadata": {},
   "source": [
    "SimpleIfDemo"
   ]
  },
  {
   "cell_type": "code",
   "execution_count": 2,
   "metadata": {},
   "outputs": [
    {
     "name": "stdout",
     "output_type": "stream",
     "text": [
      "정수를 입력하세요: 6\n",
      "HiEven\n"
     ]
    }
   ],
   "source": [
    "number = eval(input(\"정수를 입력하세요: \"))\n",
    "\n",
    "if number % 5 == 0:\n",
    "   print(\"HiFive\")\n",
    "\n",
    "if number % 2 == 0:\n",
    "   print(\"HiEven\")"
   ]
  },
  {
   "cell_type": "markdown",
   "metadata": {},
   "source": [
    "SubtractionQuiz"
   ]
  },
  {
   "cell_type": "code",
   "execution_count": 3,
   "metadata": {},
   "outputs": [
    {
     "name": "stdout",
     "output_type": "stream",
     "text": [
      "8 - 2은/는 얼마입니까? 4\n",
      "틀렸습니다.\n",
      " 8 - 2 은/는 6 입니다.\n"
     ]
    }
   ],
   "source": [
    "import random\n",
    "\n",
    "# 1. 한 자리 정수를 생성한다.\n",
    "number1 = random.randint(0, 9)\n",
    "number2 = random.randint(0, 9)\n",
    "\n",
    "# 2. number1 < number2이면  두 수를 교환한다.\n",
    "if number1 < number2:\n",
    "    number1, number2 = number2, number1 # 동시 할당문\n",
    "\n",
    "# 3. \"number1 - number2은/는 얼마입니까?\"라고 묻는다.\n",
    "answer = eval(input(str(number1) + \" - \" + str(number2) + \\\n",
    "        \"은/는 얼마입니까? \"))\n",
    "\n",
    "# 4. 답을 검사하고 결과를 출력한다.\n",
    "if number1 - number2 == answer:\n",
    "    print(\"정답입니다!\")\n",
    "else:\n",
    "    print(\"틀렸습니다.\\n\", number1 , \"-\",\n",
    "          number2, \"은/는\", number1 - number2, \"입니다.\")"
   ]
  },
  {
   "cell_type": "markdown",
   "metadata": {},
   "source": [
    "ChineseZodiac"
   ]
  },
  {
   "cell_type": "code",
   "execution_count": 4,
   "metadata": {},
   "outputs": [
    {
     "name": "stdout",
     "output_type": "stream",
     "text": [
      "연도를 입력하세요: 1977\n",
      "뱀\n"
     ]
    }
   ],
   "source": [
    "year = eval(input(\"연도를 입력하세요: \"))\n",
    "zodiacYear = year % 12\n",
    "if zodiacYear == 0:\n",
    "    print(\"원숭이\")\n",
    "elif zodiacYear == 1:\n",
    "    print(\"닭\")\n",
    "elif zodiacYear == 2:\n",
    "    print(\"개\")\n",
    "elif zodiacYear == 3:\n",
    "    print(\"돼지\")\n",
    "elif zodiacYear == 4:\n",
    "    print(\"쥐\")\n",
    "elif zodiacYear == 5:\n",
    "    print(\"소\")\n",
    "elif zodiacYear == 6:\n",
    "    print(\"범\")\n",
    "elif zodiacYear == 7:\n",
    "    print(\"토끼\")\n",
    "elif zodiacYear == 8:\n",
    "    print(\"용\")\n",
    "elif zodiacYear == 9:\n",
    "    print(\"뱀\")\n",
    "elif zodiacYear == 10:\n",
    "    print(\"말\")\n",
    "else:\n",
    "    print(\"양\")"
   ]
  },
  {
   "cell_type": "markdown",
   "metadata": {},
   "source": [
    "ErrorCase1"
   ]
  },
  {
   "cell_type": "code",
   "execution_count": 5,
   "metadata": {},
   "outputs": [
    {
     "name": "stdout",
     "output_type": "stream",
     "text": [
      "B\n"
     ]
    }
   ],
   "source": [
    "i = 1\n",
    "j = 2\n",
    "k = 3\n",
    "\n",
    "if i > j:\n",
    "    if i > k:\n",
    "        print('A')\n",
    "else:\n",
    "    print('B')\n",
    "    "
   ]
  },
  {
   "cell_type": "markdown",
   "metadata": {},
   "source": [
    "ErrorCase2"
   ]
  },
  {
   "cell_type": "code",
   "execution_count": 7,
   "metadata": {
    "collapsed": true
   },
   "outputs": [],
   "source": [
    "i = 1\n",
    "j = 2\n",
    "k = 3\n",
    "\n",
    "if i > j:\n",
    "    if i > k:\n",
    "        print('A')\n",
    "    else:\n",
    "        print('B')"
   ]
  },
  {
   "cell_type": "markdown",
   "metadata": {},
   "source": [
    "ComputeBMI"
   ]
  },
  {
   "cell_type": "code",
   "execution_count": 8,
   "metadata": {},
   "outputs": [
    {
     "name": "stdout",
     "output_type": "stream",
     "text": [
      "몸무게(파운드)를 입력하세요: 100\n",
      "키(인치)를 입력하세요: 60\n",
      "BMI는 19.53 입니다.\n",
      "정상\n"
     ]
    }
   ],
   "source": [
    "# 사용자로부터 파운드 단위의 몸무게를 입력받는다.\n",
    "weight = eval(input(\"몸무게(파운드)를 입력하세요: \"))\n",
    "\n",
    "# 사용자로부터 인치 단위의 키를 입력받는다.\n",
    "height = eval(input(\"키(인치)를 입력하세요: \"))\n",
    "\n",
    "KILOGRAMS_PER_POUND = 0.45359237 # 상수\n",
    "METERS_PER_INCH = 0.0254 # 상수\n",
    "\n",
    "# BMI를 계산한다.\n",
    "weightInKilograms = weight * KILOGRAMS_PER_POUND\n",
    "heightInMeters = height * METERS_PER_INCH\n",
    "bmi = weightInKilograms / (heightInMeters * heightInMeters)\n",
    "\n",
    "# 결과를 출력한다.\n",
    "print(\"BMI는\", format(bmi, \".2f\"), \"입니다.\")\n",
    "if bmi < 18.5:\n",
    "    print(\"저체중\")\n",
    "elif bmi < 25:\n",
    "    print(\"정상\")\n",
    "elif bmi < 30:\n",
    "    print(\"과체중\")\n",
    "else:\n",
    "    print(\"비만\")"
   ]
  },
  {
   "cell_type": "markdown",
   "metadata": {},
   "source": [
    "LeapYear"
   ]
  },
  {
   "cell_type": "code",
   "execution_count": 9,
   "metadata": {},
   "outputs": [
    {
     "name": "stdout",
     "output_type": "stream",
     "text": [
      "연도를 입력하세요: 2018\n",
      "2018 년은 윤년입니까? False\n"
     ]
    }
   ],
   "source": [
    "year = eval(input(\"연도를 입력하세요: \"))\n",
    "\n",
    "# 연도가 윤년인지 검사한다.\n",
    "isLeapYear = (year % 4 == 0 and year % 100 != 0) or \\\n",
    "                (year % 400 == 0)\n",
    "\n",
    "# 결과를 출력한다.\n",
    "print(year, \"년은 윤년입니까?\", isLeapYear)"
   ]
  },
  {
   "cell_type": "code",
   "execution_count": null,
   "metadata": {
    "collapsed": true
   },
   "outputs": [],
   "source": []
  }
 ],
 "metadata": {
  "kernelspec": {
   "display_name": "Python 3",
   "language": "python",
   "name": "python3"
  },
  "language_info": {
   "codemirror_mode": {
    "name": "ipython",
    "version": 3
   },
   "file_extension": ".py",
   "mimetype": "text/x-python",
   "name": "python",
   "nbconvert_exporter": "python",
   "pygments_lexer": "ipython3",
   "version": "3.6.3"
  }
 },
 "nbformat": 4,
 "nbformat_minor": 2
}
