{
 "cells": [
  {
   "cell_type": "markdown",
   "metadata": {},
   "source": [
    "- Counter"
   ]
  },
  {
   "cell_type": "code",
   "execution_count": 14,
   "metadata": {},
   "outputs": [],
   "source": [
    "class Counter:\n",
    "    def reset(self):\n",
    "        self.count = 0\n",
    "    def increment(self):\n",
    "        self.count += 1\n",
    "    def get(self):\n",
    "        return self.count"
   ]
  },
  {
   "cell_type": "code",
   "execution_count": 15,
   "metadata": {},
   "outputs": [
    {
     "name": "stdout",
     "output_type": "stream",
     "text": [
      "counter a:  1\n",
      "counter a:  2\n"
     ]
    }
   ],
   "source": [
    "a = Counter()\n",
    "a.reset()\n",
    "a.increment()\n",
    "print(\"counter a: \", a.get())\n",
    "a.increment()\n",
    "print(\"counter a: \", a.get())"
   ]
  },
  {
   "cell_type": "markdown",
   "metadata": {},
   "source": [
    "- CounterWithInit"
   ]
  },
  {
   "cell_type": "code",
   "execution_count": 24,
   "metadata": {},
   "outputs": [],
   "source": [
    "class Counter:\n",
    "    def __init__(self, initValue = 0):\n",
    "        self.count = initValue\n",
    "    def reset(self):\n",
    "        self.count = 0\n",
    "    def increment(self):\n",
    "        self.count += 1\n",
    "    def get(self):\n",
    "        return self.count"
   ]
  },
  {
   "cell_type": "code",
   "execution_count": 25,
   "metadata": {},
   "outputs": [
    {
     "name": "stdout",
     "output_type": "stream",
     "text": [
      "counter a:  0\n",
      "counter a:  1\n",
      "counter a:  0\n",
      "counter b:  10\n",
      "counter b:  11\n"
     ]
    }
   ],
   "source": [
    "a = Counter()\n",
    "print(\"counter a: \", a.get())\n",
    "a.increment()\n",
    "print(\"counter a: \", a.get())\n",
    "a.reset()\n",
    "print(\"counter a: \", a.get())\n",
    "\n",
    "b = Counter(10)\n",
    "print(\"counter b: \", b.get())\n",
    "b.increment()\n",
    "print(\"counter b: \", b.get())\n"
   ]
  },
  {
   "cell_type": "markdown",
   "metadata": {},
   "source": [
    "- TestCircle"
   ]
  },
  {
   "cell_type": "code",
   "execution_count": 20,
   "metadata": {
    "collapsed": true
   },
   "outputs": [],
   "source": [
    "# Circle.py에 정의된 Circle class 코드\n",
    "\n",
    "import math\n",
    "\n",
    "class Circle:\n",
    "    # Circle 객체를 생성한다.\n",
    "    def __init__(self, radius = 1):\n",
    "        self.radius = radius\n",
    "\n",
    "    def getPerimeter(self):\n",
    "        return 2 * self.radius * math.pi\n",
    "\n",
    "    def getArea(self):\n",
    "        return self.radius * self.radius * math.pi\n",
    "    "
   ]
  },
  {
   "cell_type": "code",
   "execution_count": 26,
   "metadata": {},
   "outputs": [
    {
     "name": "stdout",
     "output_type": "stream",
     "text": [
      "반지름이  1 인 원의 넓이는  3.141592653589793 입니다.\n",
      "반지름이  25 인 원의 넓이는  1963.4954084936207 입니다.\n",
      "반지름이  125 인 원의 넓이는  49087.385212340516 입니다.\n",
      "반지름이  100 인 원의 넓이는  31415.926535897932 입니다.\n"
     ]
    }
   ],
   "source": [
    "from Circle import Circle\n",
    "\n",
    "def main():\n",
    "    # Create a circle with radius 1\n",
    "    circle1 = Circle()\n",
    "    print(\"반지름이 \", circle1.radius,\n",
    "        \"인 원의 넓이는 \", circle1.getArea(), \"입니다.\")\n",
    "\n",
    "\n",
    "    # Create a circle with radius 25\n",
    "    circle2 = Circle(25)\n",
    "    print(\"반지름이 \", circle2.radius,\n",
    "        \"인 원의 넓이는 \", circle2.getArea(), \"입니다.\")\n",
    "\n",
    "    # Create a circle with radius 125\n",
    "    circle3 = Circle(125)\n",
    "    print(\"반지름이 \", circle3.radius,\n",
    "        \"인 원의 넓이는 \", circle3.getArea(), \"입니다.\")\n",
    "\n",
    "    # Modify circle radius\n",
    "    circle2.radius = 100\n",
    "    print(\"반지름이 \", circle2.radius,\n",
    "        \"인 원의 넓이는 \", circle2.getArea(), \"입니다.\")\n",
    "\n",
    "main() # Call the main function"
   ]
  },
  {
   "cell_type": "markdown",
   "metadata": {},
   "source": [
    "- TestTV"
   ]
  },
  {
   "cell_type": "code",
   "execution_count": 4,
   "metadata": {
    "collapsed": true
   },
   "outputs": [],
   "source": [
    "# TV.py에 정의된 TV class 코드\n",
    "\n",
    "class TV:\n",
    "    def __init__(self):\n",
    "        self.channel = 1  # 기본 채널은 1이다.\n",
    "        self.volumeLevel = 1  # 기본 음량 크기는 1이다.\n",
    "        self.on = False  # 초기에 TV의 전원을 꺼져있다.\n",
    "\n",
    "    def turnOn(self):\n",
    "        self.on = True\n",
    "\n",
    "    def turnOff(self):\n",
    "        self.on = False\n",
    "\n",
    "    def getChannel(self):\n",
    "        return self.channel\n",
    "\n",
    "    def setChannel(self, channel):\n",
    "        if self.on and 1 <= self.channel <= 120:\n",
    "            self.channel = channel\n",
    "\n",
    "    def getVolumeLevel(self):\n",
    "        return self.volumeLevel\n",
    "\n",
    "    def setVolume(self, volumeLevel):\n",
    "        if self.on and \\\n",
    "              1 <= self.volumeLevel <= 7:\n",
    "            self.volumeLevel = volumeLevel\n",
    "\n",
    "    def channelUp(self):\n",
    "        if self.on and self.channel < 120:\n",
    "            self.channel += 1\n",
    "\n",
    "    def channelDown(self):\n",
    "        if self.on and self.channel > 1:\n",
    "            self.channel -= 1\n",
    "\n",
    "    def volumeUp(self):\n",
    "        if self.on and self.volumeLevel < 7:\n",
    "            self.volumeLevel += 1\n",
    "\n",
    "    def volumeDown(self):\n",
    "        if self.on and self.volumeLevel > 1:\n",
    "            self.volumeLevel -= 1\n",
    "            "
   ]
  },
  {
   "cell_type": "code",
   "execution_count": 9,
   "metadata": {},
   "outputs": [
    {
     "name": "stdout",
     "output_type": "stream",
     "text": [
      "tv1의 채널은 30 이고 음량 크기는 3 입니다.\n",
      "tv2의 채널은 3 이고 음량 크기는 2 입니다.\n"
     ]
    }
   ],
   "source": [
    "from TV import TV\n",
    "\n",
    "def main():\n",
    "    tv1 = TV()\n",
    "    tv1.turnOn()\n",
    "    tv1.setChannel(30)\n",
    "    tv1.setVolume(3)\n",
    "\n",
    "    tv2 = TV()\n",
    "    tv2.turnOn()\n",
    "    tv2.channelUp()\n",
    "    tv2.channelUp()\n",
    "    tv2.volumeUp()\n",
    "\n",
    "    print(\"tv1의 채널은\", tv1.getChannel(),\n",
    "        \"이고 음량 크기는\", tv1.getVolumeLevel(), \"입니다.\")\n",
    "    print(\"tv2의 채널은\", tv2.getChannel(),\n",
    "        \"이고 음량 크기는\", tv2.getVolumeLevel(), \"입니다.\")\n",
    "\n",
    "main() # main 함수를 호출한다."
   ]
  },
  {
   "cell_type": "markdown",
   "metadata": {},
   "source": [
    "- CircleWithPrivateRadius"
   ]
  },
  {
   "cell_type": "code",
   "execution_count": 27,
   "metadata": {},
   "outputs": [],
   "source": [
    "import math \n",
    "\n",
    "class CirclePrivate:\n",
    "    # Construct a circle object \n",
    "    def __init__(self, radius = 1):\n",
    "        self.__radius = radius\n",
    "\n",
    "    def getRadius(self):\n",
    "        return self.__radius\n",
    "\n",
    "    def getPerimeter(self):\n",
    "        return 2 * self.__radius * math.pi\n",
    "\n",
    "    def getArea(self):\n",
    "        return self.__radius * self.__radius * math.pi\n",
    "\n",
    "    def setRadius(self, radius):\n",
    "        if radius >= 0: \n",
    "            self.__radius = radius"
   ]
  },
  {
   "cell_type": "code",
   "execution_count": 28,
   "metadata": {},
   "outputs": [
    {
     "name": "stdout",
     "output_type": "stream",
     "text": [
      "circle area:  78.53981633974483\n"
     ]
    },
    {
     "ename": "AttributeError",
     "evalue": "'CirclePrivate' object has no attribute '__radius'",
     "output_type": "error",
     "traceback": [
      "\u001b[1;31m---------------------------------------------------------------------------\u001b[0m",
      "\u001b[1;31mAttributeError\u001b[0m                            Traceback (most recent call last)",
      "\u001b[1;32m<ipython-input-28-48522e8240b3>\u001b[0m in \u001b[0;36m<module>\u001b[1;34m\u001b[0m\n\u001b[0;32m      1\u001b[0m \u001b[0mc\u001b[0m \u001b[1;33m=\u001b[0m \u001b[0mCirclePrivate\u001b[0m\u001b[1;33m(\u001b[0m\u001b[1;36m5\u001b[0m\u001b[1;33m)\u001b[0m\u001b[1;33m\u001b[0m\u001b[1;33m\u001b[0m\u001b[0m\n\u001b[0;32m      2\u001b[0m \u001b[0mprint\u001b[0m\u001b[1;33m(\u001b[0m\u001b[1;34m\"circle area: \"\u001b[0m\u001b[1;33m,\u001b[0m \u001b[0mc\u001b[0m\u001b[1;33m.\u001b[0m\u001b[0mgetArea\u001b[0m\u001b[1;33m(\u001b[0m\u001b[1;33m)\u001b[0m\u001b[1;33m)\u001b[0m\u001b[1;33m\u001b[0m\u001b[1;33m\u001b[0m\u001b[0m\n\u001b[1;32m----> 3\u001b[1;33m \u001b[0mc\u001b[0m\u001b[1;33m.\u001b[0m\u001b[0m__radius\u001b[0m\u001b[1;33m\u001b[0m\u001b[1;33m\u001b[0m\u001b[0m\n\u001b[0m\u001b[0;32m      4\u001b[0m \u001b[0mc\u001b[0m\u001b[1;33m.\u001b[0m\u001b[0mradius\u001b[0m\u001b[1;33m\u001b[0m\u001b[1;33m\u001b[0m\u001b[0m\n",
      "\u001b[1;31mAttributeError\u001b[0m: 'CirclePrivate' object has no attribute '__radius'"
     ]
    }
   ],
   "source": [
    "c = CirclePrivate(5)\n",
    "print(\"circle area: \", c.getArea())\n",
    "c.__radius\n",
    "c.radius"
   ]
  },
  {
   "cell_type": "code",
   "execution_count": 12,
   "metadata": {},
   "outputs": [
    {
     "data": {
      "text/plain": [
       "5"
      ]
     },
     "execution_count": 12,
     "metadata": {},
     "output_type": "execute_result"
    }
   ],
   "source": [
    "c.getRadius()"
   ]
  },
  {
   "cell_type": "markdown",
   "metadata": {},
   "source": [
    "- UseBMIClass"
   ]
  },
  {
   "cell_type": "code",
   "execution_count": 18,
   "metadata": {
    "collapsed": true
   },
   "outputs": [],
   "source": [
    "# BMI.py에 정의된 BMI class 코드\n",
    "\n",
    "class BMI:\n",
    "    def __init__(self, name, age, weight, height):\n",
    "        self.__name = name\n",
    "        self.__age = age\n",
    "        self.__weight = weight\n",
    "        self.__height = height\n",
    "  \n",
    "    def getBMI(self):\n",
    "        KILOGRAMS_PER_POUND = 0.45359237\n",
    "        METERS_PER_INCH = 0.0254  \n",
    "        bmi = self.__weight * KILOGRAMS_PER_POUND /  \\\n",
    "           ((self.__height * METERS_PER_INCH) * \\\n",
    "           (self.__height * METERS_PER_INCH))\n",
    "        return round(bmi * 100) / 100\n",
    "  \n",
    "    def getStatus(self):\n",
    "        bmi = self.getBMI()\n",
    "        if bmi < 18.5:\n",
    "            return \"Underweight\"\n",
    "        elif bmi < 25:\n",
    "            return \"Normal\"\n",
    "        elif bmi < 30:\n",
    "            return \"Overweight\"\n",
    "        else:\n",
    "            return \"Obese\"\n",
    "  \n",
    "    def getName(self):\n",
    "        return self.__name\n",
    "  \n",
    "    def getAge(self):\n",
    "        return self.__age\n",
    "  \n",
    "    def getWeight(self):\n",
    "        return self.__weight\n",
    "  \n",
    "    def getHeight(self):\n",
    "        return self.__height"
   ]
  },
  {
   "cell_type": "code",
   "execution_count": 13,
   "metadata": {},
   "outputs": [
    {
     "name": "stdout",
     "output_type": "stream",
     "text": [
      "The BMI for John Doe is 20.81 Normal\n",
      "The BMI for Peter King is 30.85 Obese\n"
     ]
    }
   ],
   "source": [
    "from BMI import BMI\n",
    "\n",
    "def main():\n",
    "    bmi1 = BMI(\"John Doe\", 18, 145, 70)\n",
    "    print(\"The BMI for\", bmi1.getName(), \"is\",\n",
    "        bmi1.getBMI(), bmi1.getStatus())\n",
    "    \n",
    "    bmi2 = BMI(\"Peter King\", 50, 215, 70)\n",
    "    print(\"The BMI for\", bmi2.getName(), \"is\",\n",
    "        bmi2.getBMI(), bmi2.getStatus())\n",
    "\n",
    "main() # Call the main function"
   ]
  },
  {
   "cell_type": "code",
   "execution_count": null,
   "metadata": {
    "collapsed": true
   },
   "outputs": [],
   "source": []
  }
 ],
 "metadata": {
  "kernelspec": {
   "display_name": "Python 3",
   "language": "python",
   "name": "python3"
  },
  "language_info": {
   "codemirror_mode": {
    "name": "ipython",
    "version": 3
   },
   "file_extension": ".py",
   "mimetype": "text/x-python",
   "name": "python",
   "nbconvert_exporter": "python",
   "pygments_lexer": "ipython3",
   "version": "3.6.10"
  }
 },
 "nbformat": 4,
 "nbformat_minor": 2
}
