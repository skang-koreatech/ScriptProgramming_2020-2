{
 "cells": [
  {
   "cell_type": "markdown",
   "metadata": {},
   "source": [
    "- WriteDemo"
   ]
  },
  {
   "cell_type": "code",
   "execution_count": 6,
   "metadata": {},
   "outputs": [],
   "source": [
    "def main():\n",
    "    # 결과를 위해 파일을 연다.\n",
    "    # lectures.txt 파일이 이미 존재하면 덮어 쓰기가 된다.\n",
    "    outfile = open(\"lectures.txt\", \"w\")\n",
    "\n",
    "    # 파일에 데이터를 입력한다\n",
    "    outfile.write(\"프로그래밍 언어\\n\")\n",
    "    outfile.write(\"자료구조\\n\")\n",
    "    outfile.write(\"데이터베이스\")\n",
    "\n",
    "    outfile.close() # 결과 파일을 닫는다\n",
    "\n",
    "main() # main 함수를 호출한다"
   ]
  },
  {
   "cell_type": "markdown",
   "metadata": {},
   "source": [
    "- ReadDemo"
   ]
  },
  {
   "cell_type": "code",
   "execution_count": 7,
   "metadata": {},
   "outputs": [
    {
     "name": "stdout",
     "output_type": "stream",
     "text": [
      "(1) read() 사용하기: \n",
      "프로그래밍 언어\n",
      "자료구조\n",
      "데이터베이스\n",
      "\n",
      "(2) read(number) 사용하기: \n",
      "프로그래밍\n",
      "' 언어\\n자료구'\n",
      "\n",
      "(3) readline() 사용하기: \n",
      "'프로그래밍 언어\\n'\n",
      "'자료구조\\n'\n",
      "'데이터베이스'\n",
      "''\n",
      "\n",
      "(4) readlines() 사용하기: \n",
      "['프로그래밍 언어\\n', '자료구조\\n', '데이터베이스']\n"
     ]
    }
   ],
   "source": [
    "def main():\n",
    "    # 입력을 위한 파일을 연다\n",
    "    infile = open(\"lectures.txt\", \"r\")\n",
    "    print(\"(1) read() 사용하기: \")\n",
    "    print(infile.read() )\n",
    "    infile.close() # 입력 파일을 닫는다\n",
    "\n",
    "    # 입력을 위한 파일을 연다\n",
    "    infile = open(\"lectures.txt\", \"r\")\n",
    "    print(\"\\n(2) read(number) 사용하기: \")\n",
    "    s1 = infile.read(5)\n",
    "    print(s1)\n",
    "    s2 = infile.read(7)\n",
    "    print(repr(s2) )\n",
    "    infile.close() # 입력 파일을 닫는다\n",
    "\n",
    "    # 입력을 위한 파일을 연다\n",
    "    infile = open(\"lectures.txt\", \"r\")\n",
    "    print(\"\\n(3) readline() 사용하기: \")\n",
    "    line1 = infile.readline()\n",
    "    line2 = infile.readline()\n",
    "    line3 = infile.readline()\n",
    "    line4 = infile.readline()\n",
    "    print(repr(line1))\n",
    "    print(repr(line2))\n",
    "    print(repr(line3))\n",
    "    print(repr(line4))\n",
    "    infile.close() # 입력 파일을 닫는다\n",
    "\n",
    "    # 입력을 위한 파일을 연다\n",
    "    infile = open(\"lectures.txt\", \"r\")\n",
    "    print(\"\\n(4) readlines() 사용하기: \")\n",
    "    print(infile.readlines() )\n",
    "    infile.close() # 입력 파일을 닫는다\n",
    "\n",
    "main() # main 함수를 호출한다."
   ]
  },
  {
   "cell_type": "markdown",
   "metadata": {},
   "source": [
    "- CountLines"
   ]
  },
  {
   "cell_type": "code",
   "execution_count": 8,
   "metadata": {},
   "outputs": [
    {
     "name": "stdout",
     "output_type": "stream",
     "text": [
      "프로그래밍 언어\n",
      "자료구조\n",
      "데이터베이스# of lines:  3\n"
     ]
    }
   ],
   "source": [
    "countLines = 0\n",
    "infile = open(\"lectures.txt\", \"r\")\n",
    "for line in infile:\n",
    "   countLines += 1\n",
    "   print(line, end=\"\")\n",
    "print(\"# of lines: \", countLines)"
   ]
  },
  {
   "cell_type": "markdown",
   "metadata": {},
   "source": [
    "- CopyFile"
   ]
  },
  {
   "cell_type": "code",
   "execution_count": 9,
   "metadata": {},
   "outputs": [
    {
     "name": "stdout",
     "output_type": "stream",
     "text": [
      "원본 파일을 입력하세요: lectures.txt\n",
      "대상 파일을 입력하세요: copy.txt\n",
      "3 개 행과 20 개 문자가 복사되었습니다.\n"
     ]
    }
   ],
   "source": [
    "import os.path\n",
    "import sys\n",
    "\n",
    "def main():\n",
    "    # 사용자로부터 파일이름을 입력받는다.\n",
    "    f1 = input(\"원본 파일을 입력하세요: \").strip()\n",
    "    f2 = input(\"대상 파일을 입력하세요: \").strip()\n",
    "\n",
    "    # 대상 파일이 존재하는지 검사한다.\n",
    "    if os.path.isfile(f2):\n",
    "        print(f2 + \" 이미 존재하는 파일입니다.\")\n",
    "        sys.exit()\n",
    "\n",
    "    # 입력 및 결과 파일을 연다.\n",
    "    infile = open(f1, \"r\")\n",
    "    outfile = open(f2, \"w\")\n",
    "\n",
    "    # 입력 파일에서 결과 파일로 복사한다.\n",
    "    countLines = countChars = 0\n",
    "    for line in infile:\n",
    "        countLines += 1\n",
    "        countChars += len(line)\n",
    "        outfile.write(line)\n",
    "    print(countLines, \"개 행과\", countChars, \"개 문자가 복사되었습니다.\")\n",
    "\n",
    "    infile.close()  # 입력 파일을 닫는다.\n",
    "    outfile.close() # 결과 파일을 닫는다.\n",
    "\n",
    "main() # main 함수를 호출한다."
   ]
  },
  {
   "cell_type": "markdown",
   "metadata": {},
   "source": [
    "- AppendFile"
   ]
  },
  {
   "cell_type": "code",
   "execution_count": 10,
   "metadata": {},
   "outputs": [
    {
     "name": "stdout",
     "output_type": "stream",
     "text": [
      "프로그래밍 언어\n",
      "자료구조\n",
      "데이터베이스\n",
      "프로그래밍 언어\n",
      "자료구조\n",
      "데이터베이스\n",
      "운영체제\n"
     ]
    }
   ],
   "source": [
    "file = open(\"lectures.txt\", \"r\")\n",
    "s = file.read()\n",
    "print(s)\n",
    "file.close()\n",
    "\n",
    "file = open(\"lectures.txt\", \"a\")\n",
    "file.write(\"\\n운영체제\")\n",
    "file.close()\n",
    "\n",
    "file = open(\"lectures.txt\", \"r\")\n",
    "s = file.read()\n",
    "print(s)\n",
    "file.close()"
   ]
  },
  {
   "cell_type": "markdown",
   "metadata": {},
   "source": [
    "- WriteReadNumbers.py"
   ]
  },
  {
   "cell_type": "code",
   "execution_count": 11,
   "metadata": {},
   "outputs": [
    {
     "name": "stdout",
     "output_type": "stream",
     "text": [
      "4 4 3 6 5 7 6 1 1 4 "
     ]
    }
   ],
   "source": [
    "from random import randint\n",
    "\n",
    "def main():\n",
    "    # 데이터 쓰기 모드로 파일을 연다.\n",
    "    outfile = open(\"Numbers.txt\", \"w\")\n",
    "    for i in range(10):\n",
    "        outfile.write(str(randint(0, 9)) + \" \")\n",
    "    outfile.close() # 파일을 닫는다.\n",
    "\n",
    "    # 데이터 읽기 모드로 파일을 연다.\n",
    "    infile = open(\"Numbers.txt\", \"r\")\n",
    "    s = infile.read()\n",
    "    numbers = [eval(x) for x in s.split()]\n",
    "    for number in numbers:\n",
    "        print(number, end = \" \")\n",
    "    infile.close() # 파일을 닫는다.\n",
    "\n",
    "main() # main 함수를 호출한다."
   ]
  },
  {
   "cell_type": "code",
   "execution_count": 12,
   "metadata": {},
   "outputs": [],
   "source": [
    "def main():\n",
    "    # 결과를 위해 파일을 연다.\n",
    "    # lectures.txt 파일이 이미 존재하면 덮어 쓰기가 된다.\n",
    "    outfile = open(\"Letters.txt\", \"w\")\n",
    "\n",
    "    # 파일에 데이터를 입력한다\n",
    "    outfile.write(\"This is a text file.\\n\")\n",
    "    outfile.write(\"This is used for counting letters.\\n\")\n",
    "    outfile.write(\"How many letters are in this file?\")\n",
    "\n",
    "    outfile.close() # 결과 파일을 닫는다\n",
    "\n",
    "main() # main 함수를 호출한다"
   ]
  },
  {
   "cell_type": "markdown",
   "metadata": {},
   "source": [
    "- CountEachLetter"
   ]
  },
  {
   "cell_type": "code",
   "execution_count": 13,
   "metadata": {},
   "outputs": [
    {
     "name": "stdout",
     "output_type": "stream",
     "text": [
      "파일명을 입력하세요: Letters.txt\n",
      "This is a text file.\n",
      "\n",
      "This is used for counting letters.\n",
      "\n",
      "How many letters are in this file?\n",
      "a: 3번 나타납니다.\n",
      "c: 1번 나타납니다.\n",
      "d: 1번 나타납니다.\n",
      "e: 9번 나타납니다.\n",
      "f: 3번 나타납니다.\n",
      "g: 1번 나타납니다.\n",
      "h: 4번 나타납니다.\n",
      "i: 9번 나타납니다.\n",
      "l: 4번 나타납니다.\n",
      "m: 1번 나타납니다.\n",
      "n: 4번 나타납니다.\n",
      "o: 3번 나타납니다.\n",
      "r: 4번 나타납니다.\n",
      "s: 8번 나타납니다.\n",
      "t: 10번 나타납니다.\n",
      "u: 2번 나타납니다.\n",
      "w: 1번 나타납니다.\n",
      "x: 1번 나타납니다.\n",
      "y: 1번 나타납니다.\n"
     ]
    }
   ],
   "source": [
    "def main():\n",
    "    filename = input(\"파일명을 입력하세요: \").strip()\n",
    "    infile = open(filename, \"r\") # 파일을 연다.\n",
    "\n",
    "    counts = 26 * [0] # counts를 생성하고 초기화한다.\n",
    "    for line in infile:\n",
    "        print(line)\n",
    "        # 각 문자를 세기 위한 countLetters 함수를 호출한다.\n",
    "        countLetters(line.lower(), counts)\n",
    "\n",
    "\n",
    "    # 결과를 출력한다.\n",
    "    for i in range(len(counts)):\n",
    "        if counts[i] != 0:\n",
    "            print(chr(ord('a') + i) + \": \" + str(counts[i])\n",
    "              + \"번 나타납니다.\")\n",
    "\n",
    "    infile.close() # 파일을 닫는다.\n",
    "\n",
    "# 문자열의 각 문자의 횟수를 센다.\n",
    "def countLetters(line, counts):\n",
    "    for ch in line:\n",
    "        if ch.isalpha():\n",
    "            counts[ord(ch) - ord('a')] += 1\n",
    "\n",
    "main() # main 함수를 호출한다."
   ]
  },
  {
   "cell_type": "markdown",
   "metadata": {},
   "source": [
    "- CountEachLetterURL"
   ]
  },
  {
   "cell_type": "code",
   "execution_count": 1,
   "metadata": {},
   "outputs": [
    {
     "name": "stdout",
     "output_type": "stream",
     "text": [
      "파일에 대한 URL을 입력하세요: http://www.google.com/index.html\n",
      "a: 531번 나타납니다.\n",
      "b: 232번 나타납니다.\n",
      "c: 397번 나타납니다.\n",
      "d: 318번 나타납니다.\n",
      "e: 663번 나타납니다.\n",
      "f: 197번 나타납니다.\n",
      "g: 379번 나타납니다.\n",
      "h: 213번 나타납니다.\n",
      "i: 474번 나타납니다.\n",
      "j: 20번 나타납니다.\n",
      "k: 68번 나타납니다.\n",
      "l: 457번 나타납니다.\n",
      "m: 200번 나타납니다.\n",
      "n: 452번 나타납니다.\n",
      "o: 574번 나타납니다.\n",
      "p: 274번 나타납니다.\n",
      "q: 31번 나타납니다.\n",
      "r: 373번 나타납니다.\n",
      "s: 366번 나타납니다.\n",
      "t: 615번 나타납니다.\n",
      "u: 216번 나타납니다.\n",
      "v: 111번 나타납니다.\n",
      "w: 116번 나타납니다.\n",
      "x: 202번 나타납니다.\n",
      "y: 93번 나타납니다.\n",
      "z: 18번 나타납니다.\n"
     ]
    }
   ],
   "source": [
    "import urllib.request\n",
    "\n",
    "def main():\n",
    "    url = input(\"파일에 대한 URL을 입력하세요: \").strip()\n",
    "    infile = urllib.request.urlopen(url)\n",
    "    s = infile.read().decode() # 문자열로 내용을 읽는다.\n",
    "\n",
    "    counts = countLetters(s.lower())\n",
    "\n",
    "    # 결과를 출력한다.\n",
    "    for i in range(len(counts)):\n",
    "        if counts[i] != 0:\n",
    "            print(chr(ord('a') + i) + \": \" + str(counts[i])\n",
    "              + \"번 나타납니다.\")\n",
    "\n",
    "# 문자열 내부의 각각의 문자를 센다.\n",
    "def countLetters(s):\n",
    "    counts = 26 * [0] # counts를 생성하고 초기화한다.\n",
    "    for ch in s:\n",
    "        if ch.isalpha():\n",
    "            counts[ord(ch) - ord('a')] += 1\n",
    "    return counts\n",
    "\n",
    "main() # main 함수를 호출한다."
   ]
  },
  {
   "cell_type": "markdown",
   "metadata": {},
   "source": [
    "- TestException"
   ]
  },
  {
   "cell_type": "code",
   "execution_count": 16,
   "metadata": {},
   "outputs": [
    {
     "name": "stdout",
     "output_type": "stream",
     "text": [
      "두 숫자를 콤마로 분리하여 입력하세요: 1, 0\n",
      "0으로 나누기!\n",
      "finally절이 실행되었습니다.\n"
     ]
    }
   ],
   "source": [
    "def main():\n",
    "    try:\n",
    "        number1, number2 = eval(\n",
    "          input(\"두 숫자를 콤마로 분리하여 입력하세요: \"))\n",
    "        result = number1 / number2\n",
    "        print(\"결과는\", str(result), \"입니다.\")\n",
    "    except ZeroDivisionError:\n",
    "        print(\"0으로 나누기!\")\n",
    "    except SyntaxError:\n",
    "        print(\"입력에 콤마가 빠졌습니다.\")\n",
    "    except:\n",
    "        print(\"입력에 문제가 있습니다.\")\n",
    "    else:\n",
    "        print(\"예외는 없습니다.\")\n",
    "    finally:\n",
    "        print(\"finally절이 실행되었습니다.\")\n",
    "\n",
    "main() # main 함수를 호출한다."
   ]
  },
  {
   "cell_type": "markdown",
   "metadata": {},
   "source": [
    "- CircleWithException"
   ]
  },
  {
   "cell_type": "code",
   "execution_count": 2,
   "metadata": {},
   "outputs": [],
   "source": [
    "import math\n",
    "\n",
    "class Circle():\n",
    "    def __init__(self, radius):\n",
    "        super().__init__()\n",
    "        self.setRadius(radius)\n",
    "\n",
    "    def getRadius(self):\n",
    "        return self.__radius\n",
    "\n",
    "    def setRadius(self, radius):\n",
    "        if radius < 0:\n",
    "            raise RuntimeError(\"반지름이 음수\")\n",
    "        else:\n",
    "            self.__radius = radius\n",
    "\n",
    "    def getArea(self):\n",
    "        return self.__radius * self.__radius * math.pi\n",
    "\n",
    "    def getDiameter(self):\n",
    "        return 2 * self.__radius\n",
    "\n",
    "    def getPerimeter(self):\n",
    "        return 2 * self.__radius * math.pi\n",
    "\n",
    "    def printCircle(self):\n",
    "        print(self.__str__() + \" 반지름: \" + str(self.__radius))"
   ]
  },
  {
   "cell_type": "markdown",
   "metadata": {},
   "source": [
    "- TestCirecleWithException"
   ]
  },
  {
   "cell_type": "code",
   "execution_count": 17,
   "metadata": {},
   "outputs": [
    {
     "name": "stdout",
     "output_type": "stream",
     "text": [
      "c1의 넓이는 78.53981633974483 입니다.\n",
      "유효하지 않은 반지름입니다. 반지름이 음수\n"
     ]
    }
   ],
   "source": [
    "try:\n",
    "    c1 = Circle(5)\n",
    "    print(\"c1의 넓이는\", c1.getArea(), \"입니다.\")\n",
    "    c2 = Circle(-5)\n",
    "    print(\"c2의 넓이는\", c2.getArea(), \"입니다.\")\n",
    "    c3 = Circle(0)\n",
    "    print(\"c3의 넓이는\", c3.getArea(), \"입니다.\")\n",
    "except RuntimeError as ex:\n",
    "    print(\"유효하지 않은 반지름입니다.\", ex)"
   ]
  },
  {
   "cell_type": "code",
   "execution_count": null,
   "metadata": {
    "collapsed": true
   },
   "outputs": [],
   "source": []
  }
 ],
 "metadata": {
  "kernelspec": {
   "display_name": "Python 3",
   "language": "python",
   "name": "python3"
  },
  "language_info": {
   "codemirror_mode": {
    "name": "ipython",
    "version": 3
   },
   "file_extension": ".py",
   "mimetype": "text/x-python",
   "name": "python",
   "nbconvert_exporter": "python",
   "pygments_lexer": "ipython3",
   "version": "3.6.10"
  }
 },
 "nbformat": 4,
 "nbformat_minor": 2
}
